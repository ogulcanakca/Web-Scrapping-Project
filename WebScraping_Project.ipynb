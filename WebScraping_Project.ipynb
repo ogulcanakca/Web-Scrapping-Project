{
  "cells": [
    {
      "cell_type": "code",
      "execution_count": null,
      "metadata": {
        "colab": {
          "base_uri": "https://localhost:8080/"
        },
        "id": "-jwgNC0zG6Zu",
        "outputId": "280c73ad-5415-47fd-9b9a-712818b3c8da"
      },
      "outputs": [
        {
          "output_type": "stream",
          "name": "stdout",
          "text": [
            "/bin/bash: mamba: command not found\n",
            "Looking in indexes: https://pypi.org/simple, https://us-python.pkg.dev/colab-wheels/public/simple/\n",
            "Requirement already satisfied: lxml==4.6.4 in /usr/local/lib/python3.9/dist-packages (4.6.4)\n",
            "/bin/bash: mamba: command not found\n",
            "Looking in indexes: https://pypi.org/simple, https://us-python.pkg.dev/colab-wheels/public/simple/\n",
            "Requirement already satisfied: requests==2.26.0 in /usr/local/lib/python3.9/dist-packages (2.26.0)\n",
            "Requirement already satisfied: idna<4,>=2.5 in /usr/local/lib/python3.9/dist-packages (from requests==2.26.0) (3.4)\n",
            "Requirement already satisfied: charset-normalizer~=2.0.0 in /usr/local/lib/python3.9/dist-packages (from requests==2.26.0) (2.0.12)\n",
            "Requirement already satisfied: certifi>=2017.4.17 in /usr/local/lib/python3.9/dist-packages (from requests==2.26.0) (2022.12.7)\n",
            "Requirement already satisfied: urllib3<1.27,>=1.21.1 in /usr/local/lib/python3.9/dist-packages (from requests==2.26.0) (1.26.15)\n"
          ]
        }
      ],
      "source": [
        "!mamba install bs4==4.10.0 -y\n",
        "!pip install lxml==4.6.4\n",
        "!mamba install html5lib==1.1 -y\n",
        "!pip install requests==2.26.0"
      ]
    },
    {
      "cell_type": "code",
      "execution_count": null,
      "metadata": {
        "id": "1m79wxg6G6Zz"
      },
      "outputs": [],
      "source": [
        "from bs4 import BeautifulSoup # this module helps in web scrapping.\n",
        "import requests  # this module helps us to download a web page"
      ]
    },
    {
      "cell_type": "code",
      "execution_count": null,
      "metadata": {
        "colab": {
          "base_uri": "https://localhost:8080/",
          "height": 203
        },
        "id": "-VOAA1L_G6Z2",
        "outputId": "7c114ce9-9e67-4420-fefd-38ebb4e0cdaa"
      },
      "outputs": [
        {
          "output_type": "display_data",
          "data": {
            "text/plain": [
              "<IPython.core.display.HTML object>"
            ],
            "text/html": [
              "<!DOCTYPE html>\n",
              "<html>\n",
              "<head>\n",
              "<title>Page Title</title>\n",
              "</head>\n",
              "<body>\n",
              "<h3><b id='boldest'>Lebron James</b></h3>\n",
              "<p> Salary: $ 92,000,000 </p>\n",
              "<h3> Stephen Curry</h3>\n",
              "<p> Salary: $85,000, 000 </p>\n",
              "<h3> Kevin Durant </h3>\n",
              "<p> Salary: $73,200, 000</p>\n",
              "</body>\n",
              "</html>\n"
            ]
          },
          "metadata": {}
        }
      ],
      "source": [
        "%%html\n",
        "<!DOCTYPE html>\n",
        "<html>\n",
        "<head>\n",
        "<title>Page Title</title>\n",
        "</head>\n",
        "<body>\n",
        "<h3><b id='boldest'>Lebron James</b></h3>\n",
        "<p> Salary: $ 92,000,000 </p>\n",
        "<h3> Stephen Curry</h3>\n",
        "<p> Salary: $85,000, 000 </p>\n",
        "<h3> Kevin Durant </h3>\n",
        "<p> Salary: $73,200, 000</p>\n",
        "</body>\n",
        "</html>"
      ]
    },
    {
      "cell_type": "markdown",
      "metadata": {
        "id": "UF0v6Zl-G6Z4"
      },
      "source": [
        "We can store it as a string in the variable HTML:\n"
      ]
    },
    {
      "cell_type": "code",
      "execution_count": null,
      "metadata": {
        "id": "hRjgaY9kG6Z5"
      },
      "outputs": [],
      "source": [
        "html=\"<!DOCTYPE html><html><head><title>Page Title</title></head><body><h3><b id='boldest'>Lebron James</b></h3><p> Salary: $ 92,000,000 </p><h3> Stephen Curry</h3><p> Salary: $85,000, 000 </p><h3> Kevin Durant </h3><p> Salary: $73,200, 000</p></body></html>\""
      ]
    },
    {
      "cell_type": "code",
      "execution_count": null,
      "metadata": {
        "id": "GD-2B2n2G6Z6"
      },
      "outputs": [],
      "source": [
        "soup = BeautifulSoup(html, \"html.parser\")"
      ]
    },
    {
      "cell_type": "code",
      "execution_count": null,
      "metadata": {
        "colab": {
          "base_uri": "https://localhost:8080/"
        },
        "id": "pwujm2p8G6Z9",
        "outputId": "0378b31e-e62c-4194-f378-039087d7672c"
      },
      "outputs": [
        {
          "output_type": "stream",
          "name": "stdout",
          "text": [
            "<!DOCTYPE html>\n",
            "<html>\n",
            " <head>\n",
            "  <title>\n",
            "   Page Title\n",
            "  </title>\n",
            " </head>\n",
            " <body>\n",
            "  <h3>\n",
            "   <b id=\"boldest\">\n",
            "    Lebron James\n",
            "   </b>\n",
            "  </h3>\n",
            "  <p>\n",
            "   Salary: $ 92,000,000\n",
            "  </p>\n",
            "  <h3>\n",
            "   Stephen Curry\n",
            "  </h3>\n",
            "  <p>\n",
            "   Salary: $85,000, 000\n",
            "  </p>\n",
            "  <h3>\n",
            "   Kevin Durant\n",
            "  </h3>\n",
            "  <p>\n",
            "   Salary: $73,200, 000\n",
            "  </p>\n",
            " </body>\n",
            "</html>\n"
          ]
        }
      ],
      "source": [
        "print(soup.prettify())"
      ]
    },
    {
      "cell_type": "code",
      "execution_count": null,
      "metadata": {
        "colab": {
          "base_uri": "https://localhost:8080/"
        },
        "id": "mfA7V3ezG6Z_",
        "outputId": "30ef6ea1-0f79-438a-b2a8-0a91211deda9"
      },
      "outputs": [
        {
          "output_type": "stream",
          "name": "stdout",
          "text": [
            "tag object: <title>Page Title</title>\n"
          ]
        }
      ],
      "source": [
        "tag_object=soup.title\n",
        "print(\"tag object:\",tag_object)"
      ]
    },
    {
      "cell_type": "code",
      "execution_count": null,
      "metadata": {
        "colab": {
          "base_uri": "https://localhost:8080/"
        },
        "id": "ZdpdYaFEG6aB",
        "outputId": "324ccf08-bcaa-41e2-b9fb-544f58fbb4d6"
      },
      "outputs": [
        {
          "output_type": "stream",
          "name": "stdout",
          "text": [
            "tag object type: <class 'bs4.element.Tag'>\n"
          ]
        }
      ],
      "source": [
        "print(\"tag object type:\",type(tag_object))"
      ]
    },
    {
      "cell_type": "code",
      "execution_count": null,
      "metadata": {
        "colab": {
          "base_uri": "https://localhost:8080/"
        },
        "id": "wDeL7hcpG6aC",
        "outputId": "4895867e-d5dd-4696-c47c-eccae7d6ab61"
      },
      "outputs": [
        {
          "output_type": "execute_result",
          "data": {
            "text/plain": [
              "<h3><b id=\"boldest\">Lebron James</b></h3>"
            ]
          },
          "metadata": {},
          "execution_count": 9
        }
      ],
      "source": [
        "tag_object=soup.h3\n",
        "tag_object"
      ]
    },
    {
      "cell_type": "markdown",
      "metadata": {
        "id": "dJHwKJEeG6aD"
      },
      "source": [
        "### Children, Parents, and Siblings\n"
      ]
    },
    {
      "cell_type": "code",
      "execution_count": null,
      "metadata": {
        "colab": {
          "base_uri": "https://localhost:8080/"
        },
        "id": "G3UhW02_G6aD",
        "outputId": "408fd490-66d5-463c-a34d-7ee295c0b3ca"
      },
      "outputs": [
        {
          "output_type": "execute_result",
          "data": {
            "text/plain": [
              "<b id=\"boldest\">Lebron James</b>"
            ]
          },
          "metadata": {},
          "execution_count": 10
        }
      ],
      "source": [
        "tag_child =tag_object.b\n",
        "tag_child"
      ]
    },
    {
      "cell_type": "code",
      "execution_count": null,
      "metadata": {
        "colab": {
          "base_uri": "https://localhost:8080/"
        },
        "id": "zWNdY1dUG6aE",
        "outputId": "0ed9bc41-ebfc-42f2-dc67-b46ed05720e3"
      },
      "outputs": [
        {
          "output_type": "execute_result",
          "data": {
            "text/plain": [
              "<h3><b id=\"boldest\">Lebron James</b></h3>"
            ]
          },
          "metadata": {},
          "execution_count": 11
        }
      ],
      "source": [
        "parent_tag=tag_child.parent\n",
        "parent_tag"
      ]
    },
    {
      "cell_type": "code",
      "execution_count": null,
      "metadata": {
        "colab": {
          "base_uri": "https://localhost:8080/"
        },
        "id": "FXPgEScVG6aF",
        "outputId": "6714cecc-b4c1-4ff6-c575-5a819f347062"
      },
      "outputs": [
        {
          "output_type": "execute_result",
          "data": {
            "text/plain": [
              "<h3><b id=\"boldest\">Lebron James</b></h3>"
            ]
          },
          "metadata": {},
          "execution_count": 12
        }
      ],
      "source": [
        "tag_object"
      ]
    },
    {
      "cell_type": "code",
      "execution_count": null,
      "metadata": {
        "colab": {
          "base_uri": "https://localhost:8080/"
        },
        "id": "44DkS9_vG6aG",
        "outputId": "63dd0463-25de-4003-f199-9128c51e274c"
      },
      "outputs": [
        {
          "output_type": "execute_result",
          "data": {
            "text/plain": [
              "<body><h3><b id=\"boldest\">Lebron James</b></h3><p> Salary: $ 92,000,000 </p><h3> Stephen Curry</h3><p> Salary: $85,000, 000 </p><h3> Kevin Durant </h3><p> Salary: $73,200, 000</p></body>"
            ]
          },
          "metadata": {},
          "execution_count": 13
        }
      ],
      "source": [
        "tag_object.parent"
      ]
    },
    {
      "cell_type": "code",
      "execution_count": null,
      "metadata": {
        "colab": {
          "base_uri": "https://localhost:8080/"
        },
        "id": "cuCBWi7VG6aH",
        "outputId": "c8688f94-47f4-4679-ee82-34c429152fde"
      },
      "outputs": [
        {
          "output_type": "execute_result",
          "data": {
            "text/plain": [
              "<p> Salary: $ 92,000,000 </p>"
            ]
          },
          "metadata": {},
          "execution_count": 14
        }
      ],
      "source": [
        "sibling_1=tag_object.next_sibling\n",
        "sibling_1"
      ]
    },
    {
      "cell_type": "code",
      "execution_count": null,
      "metadata": {
        "colab": {
          "base_uri": "https://localhost:8080/"
        },
        "id": "eWlAzYm5G6aI",
        "outputId": "3a7d1c32-a4d8-4c45-f25a-56760a179586"
      },
      "outputs": [
        {
          "output_type": "execute_result",
          "data": {
            "text/plain": [
              "<h3> Stephen Curry</h3>"
            ]
          },
          "metadata": {},
          "execution_count": 15
        }
      ],
      "source": [
        "sibling_2=sibling_1.next_sibling\n",
        "sibling_2"
      ]
    },
    {
      "cell_type": "code",
      "execution_count": null,
      "metadata": {
        "colab": {
          "base_uri": "https://localhost:8080/"
        },
        "id": "yHTypONlG6aL",
        "outputId": "c26854b2-2d3b-45b2-d4df-6ced817ea98d"
      },
      "outputs": [
        {
          "output_type": "execute_result",
          "data": {
            "text/plain": [
              "<p> Salary: $85,000, 000 </p>"
            ]
          },
          "metadata": {},
          "execution_count": 16
        }
      ],
      "source": [
        "sibling_2.next_sibling"
      ]
    },
    {
      "cell_type": "markdown",
      "metadata": {
        "id": "WhVeyKkQG6aM"
      },
      "source": [
        "### HTML Attributes\n"
      ]
    },
    {
      "cell_type": "code",
      "execution_count": null,
      "metadata": {
        "colab": {
          "base_uri": "https://localhost:8080/",
          "height": 36
        },
        "id": "UbVAWNWaG6aN",
        "outputId": "fa9c60df-3c25-4429-efbf-6f39a45ae600"
      },
      "outputs": [
        {
          "output_type": "execute_result",
          "data": {
            "text/plain": [
              "'boldest'"
            ],
            "application/vnd.google.colaboratory.intrinsic+json": {
              "type": "string"
            }
          },
          "metadata": {},
          "execution_count": 17
        }
      ],
      "source": [
        "tag_child['id']"
      ]
    },
    {
      "cell_type": "code",
      "execution_count": null,
      "metadata": {
        "colab": {
          "base_uri": "https://localhost:8080/"
        },
        "id": "iQ-p2a3PG6aO",
        "outputId": "53ecf4cc-1750-456b-dbcb-2c2120cbc924"
      },
      "outputs": [
        {
          "output_type": "execute_result",
          "data": {
            "text/plain": [
              "{'id': 'boldest'}"
            ]
          },
          "metadata": {},
          "execution_count": 18
        }
      ],
      "source": [
        "tag_child.attrs"
      ]
    },
    {
      "cell_type": "code",
      "execution_count": null,
      "metadata": {
        "colab": {
          "base_uri": "https://localhost:8080/",
          "height": 36
        },
        "id": "1ttCD_86G6aP",
        "outputId": "a9ab1d50-bd5d-4c52-889a-6e0e442257cf"
      },
      "outputs": [
        {
          "output_type": "execute_result",
          "data": {
            "text/plain": [
              "'boldest'"
            ],
            "application/vnd.google.colaboratory.intrinsic+json": {
              "type": "string"
            }
          },
          "metadata": {},
          "execution_count": 19
        }
      ],
      "source": [
        "tag_child.get('id')"
      ]
    },
    {
      "cell_type": "markdown",
      "metadata": {
        "id": "bOWytij6G6aQ"
      },
      "source": [
        "### Navigable String\n"
      ]
    },
    {
      "cell_type": "code",
      "execution_count": null,
      "metadata": {
        "colab": {
          "base_uri": "https://localhost:8080/",
          "height": 36
        },
        "id": "tQzToSSzG6aR",
        "outputId": "866edbb4-9e89-4e96-9e74-6621805b661c"
      },
      "outputs": [
        {
          "output_type": "execute_result",
          "data": {
            "text/plain": [
              "'Lebron James'"
            ],
            "application/vnd.google.colaboratory.intrinsic+json": {
              "type": "string"
            }
          },
          "metadata": {},
          "execution_count": 20
        }
      ],
      "source": [
        "tag_string=tag_child.string\n",
        "tag_string"
      ]
    },
    {
      "cell_type": "code",
      "execution_count": null,
      "metadata": {
        "colab": {
          "base_uri": "https://localhost:8080/"
        },
        "id": "B5DXB_YuG6aS",
        "outputId": "bc4a39f5-2b8a-4725-d6a5-817478c44046"
      },
      "outputs": [
        {
          "output_type": "execute_result",
          "data": {
            "text/plain": [
              "bs4.element.NavigableString"
            ]
          },
          "metadata": {},
          "execution_count": 21
        }
      ],
      "source": [
        "type(tag_string)"
      ]
    },
    {
      "cell_type": "code",
      "execution_count": null,
      "metadata": {
        "colab": {
          "base_uri": "https://localhost:8080/",
          "height": 36
        },
        "id": "7fmmM8rmG6aT",
        "outputId": "2e32749c-eaa3-4e02-e686-fd0ff15e69ca"
      },
      "outputs": [
        {
          "output_type": "execute_result",
          "data": {
            "text/plain": [
              "'Lebron James'"
            ],
            "application/vnd.google.colaboratory.intrinsic+json": {
              "type": "string"
            }
          },
          "metadata": {},
          "execution_count": 22
        }
      ],
      "source": [
        "unicode_string = str(tag_string)\n",
        "unicode_string"
      ]
    },
    {
      "cell_type": "markdown",
      "metadata": {
        "id": "Qbzpyi-8G6aU"
      },
      "source": [
        "<h2 id=\"filter\">Filter</h2>\n"
      ]
    },
    {
      "cell_type": "code",
      "execution_count": null,
      "metadata": {
        "colab": {
          "base_uri": "https://localhost:8080/",
          "height": 102
        },
        "id": "DofI5PeGG6aV",
        "outputId": "9334d372-e277-4774-b380-88bb6b4b84ce"
      },
      "outputs": [
        {
          "output_type": "display_data",
          "data": {
            "text/plain": [
              "<IPython.core.display.HTML object>"
            ],
            "text/html": [
              "<table>\n",
              "  <tr>\n",
              "    <td id='flight' >Flight No</td>\n",
              "    <td>Launch site</td> \n",
              "    <td>Payload mass</td>\n",
              "   </tr>\n",
              "  <tr> \n",
              "    <td>1</td>\n",
              "    <td><a href='https://en.wikipedia.org/wiki/Florida'>Florida</a></td>\n",
              "    <td>300 kg</td>\n",
              "  </tr>\n",
              "  <tr>\n",
              "    <td>2</td>\n",
              "    <td><a href='https://en.wikipedia.org/wiki/Texas'>Texas</a></td>\n",
              "    <td>94 kg</td>\n",
              "  </tr>\n",
              "  <tr>\n",
              "    <td>3</td>\n",
              "    <td><a href='https://en.wikipedia.org/wiki/Florida'>Florida<a> </td>\n",
              "    <td>80 kg</td>\n",
              "  </tr>\n",
              "</table>\n"
            ]
          },
          "metadata": {}
        }
      ],
      "source": [
        "%%html\n",
        "<table>\n",
        "  <tr>\n",
        "    <td id='flight' >Flight No</td>\n",
        "    <td>Launch site</td> \n",
        "    <td>Payload mass</td>\n",
        "   </tr>\n",
        "  <tr> \n",
        "    <td>1</td>\n",
        "    <td><a href='https://en.wikipedia.org/wiki/Florida'>Florida</a></td>\n",
        "    <td>300 kg</td>\n",
        "  </tr>\n",
        "  <tr>\n",
        "    <td>2</td>\n",
        "    <td><a href='https://en.wikipedia.org/wiki/Texas'>Texas</a></td>\n",
        "    <td>94 kg</td>\n",
        "  </tr>\n",
        "  <tr>\n",
        "    <td>3</td>\n",
        "    <td><a href='https://en.wikipedia.org/wiki/Florida'>Florida<a> </td>\n",
        "    <td>80 kg</td>\n",
        "  </tr>\n",
        "</table>"
      ]
    },
    {
      "cell_type": "markdown",
      "metadata": {
        "id": "1uwXNDblG6aW"
      },
      "source": [
        "We can store it as a string in the variable <code>table</code>:\n"
      ]
    },
    {
      "cell_type": "code",
      "execution_count": null,
      "metadata": {
        "id": "0saBDCwIG6aW"
      },
      "outputs": [],
      "source": [
        "table=\"<table><tr><td id='flight'>Flight No</td><td>Launch site</td> <td>Payload mass</td></tr><tr> <td>1</td><td><a href='https://en.wikipedia.org/wiki/Florida'>Florida<a></td><td>300 kg</td></tr><tr><td>2</td><td><a href='https://en.wikipedia.org/wiki/Texas'>Texas</a></td><td>94 kg</td></tr><tr><td>3</td><td><a href='https://en.wikipedia.org/wiki/Florida'>Florida<a> </td><td>80 kg</td></tr></table>\""
      ]
    },
    {
      "cell_type": "code",
      "execution_count": null,
      "metadata": {
        "id": "d58FoRZ_G6aX"
      },
      "outputs": [],
      "source": [
        "table_bs = BeautifulSoup(table, \"html.parser\")"
      ]
    },
    {
      "cell_type": "code",
      "execution_count": null,
      "metadata": {
        "colab": {
          "base_uri": "https://localhost:8080/"
        },
        "id": "LWjIu0bUG6aa",
        "outputId": "c7ada628-d947-4ef2-adb3-d8f3759bc2be"
      },
      "outputs": [
        {
          "output_type": "execute_result",
          "data": {
            "text/plain": [
              "[<tr><td id=\"flight\">Flight No</td><td>Launch site</td> <td>Payload mass</td></tr>,\n",
              " <tr> <td>1</td><td><a href=\"https://en.wikipedia.org/wiki/Florida\">Florida<a></a></a></td><td>300 kg</td></tr>,\n",
              " <tr><td>2</td><td><a href=\"https://en.wikipedia.org/wiki/Texas\">Texas</a></td><td>94 kg</td></tr>,\n",
              " <tr><td>3</td><td><a href=\"https://en.wikipedia.org/wiki/Florida\">Florida<a> </a></a></td><td>80 kg</td></tr>]"
            ]
          },
          "metadata": {},
          "execution_count": 26
        }
      ],
      "source": [
        "table_rows=table_bs.find_all('tr')\n",
        "table_rows"
      ]
    },
    {
      "cell_type": "code",
      "execution_count": null,
      "metadata": {
        "colab": {
          "base_uri": "https://localhost:8080/"
        },
        "id": "37LLGxJDG6ab",
        "outputId": "2cb6efa9-2bcd-4651-fb15-9a06dafd8636"
      },
      "outputs": [
        {
          "output_type": "execute_result",
          "data": {
            "text/plain": [
              "<tr><td id=\"flight\">Flight No</td><td>Launch site</td> <td>Payload mass</td></tr>"
            ]
          },
          "metadata": {},
          "execution_count": 27
        }
      ],
      "source": [
        "first_row =table_rows[0]\n",
        "first_row"
      ]
    },
    {
      "cell_type": "code",
      "execution_count": null,
      "metadata": {
        "colab": {
          "base_uri": "https://localhost:8080/"
        },
        "id": "EeP8b-P8G6ac",
        "outputId": "e4074609-48da-4bfc-d211-ded3e48758d6"
      },
      "outputs": [
        {
          "output_type": "stream",
          "name": "stdout",
          "text": [
            "<class 'bs4.element.Tag'>\n"
          ]
        }
      ],
      "source": [
        "print(type(first_row))"
      ]
    },
    {
      "cell_type": "markdown",
      "metadata": {
        "id": "bMlUG5LLG6ad"
      },
      "source": [
        "we can obtain the child\n"
      ]
    },
    {
      "cell_type": "code",
      "execution_count": null,
      "metadata": {
        "colab": {
          "base_uri": "https://localhost:8080/"
        },
        "id": "c-6KhLLcG6ae",
        "outputId": "5ab059f6-122d-4595-f579-046de7105676"
      },
      "outputs": [
        {
          "output_type": "execute_result",
          "data": {
            "text/plain": [
              "<td id=\"flight\">Flight No</td>"
            ]
          },
          "metadata": {},
          "execution_count": 29
        }
      ],
      "source": [
        "first_row.td"
      ]
    },
    {
      "cell_type": "markdown",
      "metadata": {
        "id": "1pQ0eh7iG6af"
      },
      "source": [
        "If we iterate through the list, each element corresponds to a row in the table:\n"
      ]
    },
    {
      "cell_type": "code",
      "execution_count": null,
      "metadata": {
        "colab": {
          "base_uri": "https://localhost:8080/"
        },
        "id": "FcJF_mCJG6ag",
        "outputId": "298d98d8-7667-4408-8021-6f2988665cd2"
      },
      "outputs": [
        {
          "output_type": "stream",
          "name": "stdout",
          "text": [
            "row 0 is <tr><td id=\"flight\">Flight No</td><td>Launch site</td> <td>Payload mass</td></tr>\n",
            "row 1 is <tr> <td>1</td><td><a href=\"https://en.wikipedia.org/wiki/Florida\">Florida<a></a></a></td><td>300 kg</td></tr>\n",
            "row 2 is <tr><td>2</td><td><a href=\"https://en.wikipedia.org/wiki/Texas\">Texas</a></td><td>94 kg</td></tr>\n",
            "row 3 is <tr><td>3</td><td><a href=\"https://en.wikipedia.org/wiki/Florida\">Florida<a> </a></a></td><td>80 kg</td></tr>\n"
          ]
        }
      ],
      "source": [
        "for i,row in enumerate(table_rows):\n",
        "    print(\"row\",i,\"is\",row)\n",
        "    "
      ]
    },
    {
      "cell_type": "code",
      "execution_count": null,
      "metadata": {
        "colab": {
          "base_uri": "https://localhost:8080/"
        },
        "id": "LQnw03qDG6ai",
        "outputId": "ae34b00c-85d0-42fd-cd7b-9918cf7aef88"
      },
      "outputs": [
        {
          "output_type": "stream",
          "name": "stdout",
          "text": [
            "row 0\n",
            "colunm 0 cell <td id=\"flight\">Flight No</td>\n",
            "colunm 1 cell <td>Launch site</td>\n",
            "colunm 2 cell <td>Payload mass</td>\n",
            "row 1\n",
            "colunm 0 cell <td>1</td>\n",
            "colunm 1 cell <td><a href=\"https://en.wikipedia.org/wiki/Florida\">Florida<a></a></a></td>\n",
            "colunm 2 cell <td>300 kg</td>\n",
            "row 2\n",
            "colunm 0 cell <td>2</td>\n",
            "colunm 1 cell <td><a href=\"https://en.wikipedia.org/wiki/Texas\">Texas</a></td>\n",
            "colunm 2 cell <td>94 kg</td>\n",
            "row 3\n",
            "colunm 0 cell <td>3</td>\n",
            "colunm 1 cell <td><a href=\"https://en.wikipedia.org/wiki/Florida\">Florida<a> </a></a></td>\n",
            "colunm 2 cell <td>80 kg</td>\n"
          ]
        }
      ],
      "source": [
        "for i,row in enumerate(table_rows):\n",
        "    print(\"row\",i)\n",
        "    cells=row.find_all('td')\n",
        "    for j,cell in enumerate(cells):\n",
        "        print('colunm',j,\"cell\",cell)"
      ]
    },
    {
      "cell_type": "code",
      "execution_count": null,
      "metadata": {
        "colab": {
          "base_uri": "https://localhost:8080/"
        },
        "id": "b4FlI0AsG6ak",
        "outputId": "81f5f541-08b4-46f8-c61f-3d47fd280cc8"
      },
      "outputs": [
        {
          "output_type": "execute_result",
          "data": {
            "text/plain": [
              "[<tr><td id=\"flight\">Flight No</td><td>Launch site</td> <td>Payload mass</td></tr>,\n",
              " <td id=\"flight\">Flight No</td>,\n",
              " <td>Launch site</td>,\n",
              " <td>Payload mass</td>,\n",
              " <tr> <td>1</td><td><a href=\"https://en.wikipedia.org/wiki/Florida\">Florida<a></a></a></td><td>300 kg</td></tr>,\n",
              " <td>1</td>,\n",
              " <td><a href=\"https://en.wikipedia.org/wiki/Florida\">Florida<a></a></a></td>,\n",
              " <td>300 kg</td>,\n",
              " <tr><td>2</td><td><a href=\"https://en.wikipedia.org/wiki/Texas\">Texas</a></td><td>94 kg</td></tr>,\n",
              " <td>2</td>,\n",
              " <td><a href=\"https://en.wikipedia.org/wiki/Texas\">Texas</a></td>,\n",
              " <td>94 kg</td>,\n",
              " <tr><td>3</td><td><a href=\"https://en.wikipedia.org/wiki/Florida\">Florida<a> </a></a></td><td>80 kg</td></tr>,\n",
              " <td>3</td>,\n",
              " <td><a href=\"https://en.wikipedia.org/wiki/Florida\">Florida<a> </a></a></td>,\n",
              " <td>80 kg</td>]"
            ]
          },
          "metadata": {},
          "execution_count": 32
        }
      ],
      "source": [
        "list_input=table_bs .find_all(name=[\"tr\", \"td\"])\n",
        "list_input"
      ]
    },
    {
      "cell_type": "markdown",
      "metadata": {
        "id": "o9whhwOGG6al"
      },
      "source": [
        "## Attributes\n"
      ]
    },
    {
      "cell_type": "code",
      "execution_count": null,
      "metadata": {
        "colab": {
          "base_uri": "https://localhost:8080/"
        },
        "id": "eOSdvlDxG6am",
        "outputId": "478f7a8f-7b2a-4ddb-de6a-827b4820c36d"
      },
      "outputs": [
        {
          "output_type": "execute_result",
          "data": {
            "text/plain": [
              "[<td id=\"flight\">Flight No</td>]"
            ]
          },
          "metadata": {},
          "execution_count": 33
        }
      ],
      "source": [
        "table_bs.find_all(id=\"flight\")"
      ]
    },
    {
      "cell_type": "code",
      "execution_count": null,
      "metadata": {
        "colab": {
          "base_uri": "https://localhost:8080/"
        },
        "id": "TBH_OuayG6ao",
        "outputId": "819ecb45-ec90-4be9-c383-1e31756755ce"
      },
      "outputs": [
        {
          "output_type": "execute_result",
          "data": {
            "text/plain": [
              "[<a href=\"https://en.wikipedia.org/wiki/Florida\">Florida<a></a></a>,\n",
              " <a href=\"https://en.wikipedia.org/wiki/Florida\">Florida<a> </a></a>]"
            ]
          },
          "metadata": {},
          "execution_count": 34
        }
      ],
      "source": [
        "list_input=table_bs.find_all(href=\"https://en.wikipedia.org/wiki/Florida\")\n",
        "list_input"
      ]
    },
    {
      "cell_type": "code",
      "execution_count": null,
      "metadata": {
        "colab": {
          "base_uri": "https://localhost:8080/"
        },
        "id": "DDgKb29bG6ap",
        "outputId": "9fa69bba-58de-482e-e3c8-15f6cb3569c1"
      },
      "outputs": [
        {
          "output_type": "execute_result",
          "data": {
            "text/plain": [
              "[<a href=\"https://en.wikipedia.org/wiki/Florida\">Florida<a></a></a>,\n",
              " <a href=\"https://en.wikipedia.org/wiki/Texas\">Texas</a>,\n",
              " <a href=\"https://en.wikipedia.org/wiki/Florida\">Florida<a> </a></a>]"
            ]
          },
          "metadata": {},
          "execution_count": 35
        }
      ],
      "source": [
        "table_bs.find_all(href=True)"
      ]
    },
    {
      "cell_type": "code",
      "execution_count": null,
      "metadata": {
        "colab": {
          "base_uri": "https://localhost:8080/"
        },
        "id": "29Ye8P95G6ar",
        "outputId": "928f3f16-82d9-45df-807c-61770744f155"
      },
      "outputs": [
        {
          "output_type": "execute_result",
          "data": {
            "text/plain": [
              "[<table><tr><td id=\"flight\">Flight No</td><td>Launch site</td> <td>Payload mass</td></tr><tr> <td>1</td><td><a href=\"https://en.wikipedia.org/wiki/Florida\">Florida<a></a></a></td><td>300 kg</td></tr><tr><td>2</td><td><a href=\"https://en.wikipedia.org/wiki/Texas\">Texas</a></td><td>94 kg</td></tr><tr><td>3</td><td><a href=\"https://en.wikipedia.org/wiki/Florida\">Florida<a> </a></a></td><td>80 kg</td></tr></table>,\n",
              " <tr><td id=\"flight\">Flight No</td><td>Launch site</td> <td>Payload mass</td></tr>,\n",
              " <td id=\"flight\">Flight No</td>,\n",
              " <td>Launch site</td>,\n",
              " <td>Payload mass</td>,\n",
              " <tr> <td>1</td><td><a href=\"https://en.wikipedia.org/wiki/Florida\">Florida<a></a></a></td><td>300 kg</td></tr>,\n",
              " <td>1</td>,\n",
              " <td><a href=\"https://en.wikipedia.org/wiki/Florida\">Florida<a></a></a></td>,\n",
              " <a></a>,\n",
              " <td>300 kg</td>,\n",
              " <tr><td>2</td><td><a href=\"https://en.wikipedia.org/wiki/Texas\">Texas</a></td><td>94 kg</td></tr>,\n",
              " <td>2</td>,\n",
              " <td><a href=\"https://en.wikipedia.org/wiki/Texas\">Texas</a></td>,\n",
              " <td>94 kg</td>,\n",
              " <tr><td>3</td><td><a href=\"https://en.wikipedia.org/wiki/Florida\">Florida<a> </a></a></td><td>80 kg</td></tr>,\n",
              " <td>3</td>,\n",
              " <td><a href=\"https://en.wikipedia.org/wiki/Florida\">Florida<a> </a></a></td>,\n",
              " <a> </a>,\n",
              " <td>80 kg</td>]"
            ]
          },
          "metadata": {},
          "execution_count": 36
        }
      ],
      "source": [
        "table_bs.find_all(href=False)"
      ]
    },
    {
      "cell_type": "code",
      "execution_count": null,
      "metadata": {
        "colab": {
          "base_uri": "https://localhost:8080/"
        },
        "id": "g-ruuUe3G6at",
        "outputId": "77f85dcc-40ea-4f31-e325-734e519b6616"
      },
      "outputs": [
        {
          "output_type": "execute_result",
          "data": {
            "text/plain": [
              "[<b id=\"boldest\">Lebron James</b>]"
            ]
          },
          "metadata": {},
          "execution_count": 37
        }
      ],
      "source": [
        "soup.find_all(id=\"boldest\")"
      ]
    },
    {
      "cell_type": "code",
      "execution_count": null,
      "metadata": {
        "colab": {
          "base_uri": "https://localhost:8080/"
        },
        "id": "fd13qb44G6au",
        "outputId": "931be0a8-aa95-4eb5-dcd9-67f030f8aca1"
      },
      "outputs": [
        {
          "output_type": "execute_result",
          "data": {
            "text/plain": [
              "['Florida', 'Florida']"
            ]
          },
          "metadata": {},
          "execution_count": 38
        }
      ],
      "source": [
        "table_bs.find_all(string=\"Florida\")"
      ]
    },
    {
      "cell_type": "code",
      "execution_count": null,
      "metadata": {
        "colab": {
          "base_uri": "https://localhost:8080/",
          "height": 271
        },
        "id": "I7QvqQ0IG6av",
        "outputId": "a12217a3-85fb-47bd-ed8a-3af410fde97b"
      },
      "outputs": [
        {
          "output_type": "display_data",
          "data": {
            "text/plain": [
              "<IPython.core.display.HTML object>"
            ],
            "text/html": [
              "<h3>Rocket Launch </h3>\n",
              "\n",
              "<p>\n",
              "<table class='rocket'>\n",
              "  <tr>\n",
              "    <td>Flight No</td>\n",
              "    <td>Launch site</td> \n",
              "    <td>Payload mass</td>\n",
              "  </tr>\n",
              "  <tr>\n",
              "    <td>1</td>\n",
              "    <td>Florida</td>\n",
              "    <td>300 kg</td>\n",
              "  </tr>\n",
              "  <tr>\n",
              "    <td>2</td>\n",
              "    <td>Texas</td>\n",
              "    <td>94 kg</td>\n",
              "  </tr>\n",
              "  <tr>\n",
              "    <td>3</td>\n",
              "    <td>Florida </td>\n",
              "    <td>80 kg</td>\n",
              "  </tr>\n",
              "</table>\n",
              "</p>\n",
              "<p>\n",
              "\n",
              "<h3>Pizza Party  </h3>\n",
              "  \n",
              "    \n",
              "<table class='pizza'>\n",
              "  <tr>\n",
              "    <td>Pizza Place</td>\n",
              "    <td>Orders</td> \n",
              "    <td>Slices </td>\n",
              "   </tr>\n",
              "  <tr>\n",
              "    <td>Domino's Pizza</td>\n",
              "    <td>10</td>\n",
              "    <td>100</td>\n",
              "  </tr>\n",
              "  <tr>\n",
              "    <td>Little Caesars</td>\n",
              "    <td>12</td>\n",
              "    <td >144 </td>\n",
              "  </tr>\n",
              "  <tr>\n",
              "    <td>Papa John's </td>\n",
              "    <td>15 </td>\n",
              "    <td>165</td>\n",
              "  </tr>\n"
            ]
          },
          "metadata": {}
        }
      ],
      "source": [
        "%%html\n",
        "<h3>Rocket Launch </h3>\n",
        "\n",
        "<p>\n",
        "<table class='rocket'>\n",
        "  <tr>\n",
        "    <td>Flight No</td>\n",
        "    <td>Launch site</td> \n",
        "    <td>Payload mass</td>\n",
        "  </tr>\n",
        "  <tr>\n",
        "    <td>1</td>\n",
        "    <td>Florida</td>\n",
        "    <td>300 kg</td>\n",
        "  </tr>\n",
        "  <tr>\n",
        "    <td>2</td>\n",
        "    <td>Texas</td>\n",
        "    <td>94 kg</td>\n",
        "  </tr>\n",
        "  <tr>\n",
        "    <td>3</td>\n",
        "    <td>Florida </td>\n",
        "    <td>80 kg</td>\n",
        "  </tr>\n",
        "</table>\n",
        "</p>\n",
        "<p>\n",
        "\n",
        "<h3>Pizza Party  </h3>\n",
        "  \n",
        "    \n",
        "<table class='pizza'>\n",
        "  <tr>\n",
        "    <td>Pizza Place</td>\n",
        "    <td>Orders</td> \n",
        "    <td>Slices </td>\n",
        "   </tr>\n",
        "  <tr>\n",
        "    <td>Domino's Pizza</td>\n",
        "    <td>10</td>\n",
        "    <td>100</td>\n",
        "  </tr>\n",
        "  <tr>\n",
        "    <td>Little Caesars</td>\n",
        "    <td>12</td>\n",
        "    <td >144 </td>\n",
        "  </tr>\n",
        "  <tr>\n",
        "    <td>Papa John's </td>\n",
        "    <td>15 </td>\n",
        "    <td>165</td>\n",
        "  </tr>\n"
      ]
    },
    {
      "cell_type": "markdown",
      "metadata": {
        "id": "9sX8dVXgG6ay"
      },
      "source": [
        "We store the HTML as a Python string and assign <code>two_tables</code>:\n"
      ]
    },
    {
      "cell_type": "code",
      "execution_count": null,
      "metadata": {
        "id": "QzRu6QkwG6ay"
      },
      "outputs": [],
      "source": [
        "two_tables=\"<h3>Rocket Launch </h3><p><table class='rocket'><tr><td>Flight No</td><td>Launch site</td> <td>Payload mass</td></tr><tr><td>1</td><td>Florida</td><td>300 kg</td></tr><tr><td>2</td><td>Texas</td><td>94 kg</td></tr><tr><td>3</td><td>Florida </td><td>80 kg</td></tr></table></p><p><h3>Pizza Party  </h3><table class='pizza'><tr><td>Pizza Place</td><td>Orders</td> <td>Slices </td></tr><tr><td>Domino's Pizza</td><td>10</td><td>100</td></tr><tr><td>Little Caesars</td><td>12</td><td >144 </td></tr><tr><td>Papa John's </td><td>15 </td><td>165</td></tr>\""
      ]
    },
    {
      "cell_type": "code",
      "execution_count": null,
      "metadata": {
        "id": "NgCuIyUqG6az"
      },
      "outputs": [],
      "source": [
        "two_tables_bs= BeautifulSoup(two_tables, 'html.parser')"
      ]
    },
    {
      "cell_type": "code",
      "execution_count": null,
      "metadata": {
        "colab": {
          "base_uri": "https://localhost:8080/"
        },
        "id": "iaT9hLowG6a0",
        "outputId": "c413aaa6-311f-4330-f6fb-e2e3f1bb876a"
      },
      "outputs": [
        {
          "output_type": "execute_result",
          "data": {
            "text/plain": [
              "<table class=\"rocket\"><tr><td>Flight No</td><td>Launch site</td> <td>Payload mass</td></tr><tr><td>1</td><td>Florida</td><td>300 kg</td></tr><tr><td>2</td><td>Texas</td><td>94 kg</td></tr><tr><td>3</td><td>Florida </td><td>80 kg</td></tr></table>"
            ]
          },
          "metadata": {},
          "execution_count": 42
        }
      ],
      "source": [
        "two_tables_bs.find(\"table\")"
      ]
    },
    {
      "cell_type": "code",
      "execution_count": null,
      "metadata": {
        "colab": {
          "base_uri": "https://localhost:8080/"
        },
        "id": "aCVfjSpAG6a1",
        "outputId": "d73c4a17-e07f-4afe-e84c-0b80f950d0cc"
      },
      "outputs": [
        {
          "output_type": "execute_result",
          "data": {
            "text/plain": [
              "<table class=\"pizza\"><tr><td>Pizza Place</td><td>Orders</td> <td>Slices </td></tr><tr><td>Domino's Pizza</td><td>10</td><td>100</td></tr><tr><td>Little Caesars</td><td>12</td><td>144 </td></tr><tr><td>Papa John's </td><td>15 </td><td>165</td></tr></table>"
            ]
          },
          "metadata": {},
          "execution_count": 43
        }
      ],
      "source": [
        "two_tables_bs.find(\"table\",class_='pizza')"
      ]
    },
    {
      "cell_type": "markdown",
      "metadata": {
        "id": "ZUxfCtU9G6a1"
      },
      "source": [
        "<h2 id=\"DSCW\">Downloading And Scraping The Contents Of A Web Page</h2> \n"
      ]
    },
    {
      "cell_type": "code",
      "execution_count": null,
      "metadata": {
        "id": "LiSDqBQPG6a2"
      },
      "outputs": [],
      "source": [
        "url = \"http://www.ibm.com\""
      ]
    },
    {
      "cell_type": "code",
      "execution_count": null,
      "metadata": {
        "id": "v9D1dH5vG6a3"
      },
      "outputs": [],
      "source": [
        "data  = requests.get(url).text "
      ]
    },
    {
      "cell_type": "code",
      "execution_count": null,
      "metadata": {
        "id": "85Mg4_xlG6a4"
      },
      "outputs": [],
      "source": [
        "soup = BeautifulSoup(data,\"html.parser\") "
      ]
    },
    {
      "cell_type": "code",
      "execution_count": null,
      "metadata": {
        "colab": {
          "base_uri": "https://localhost:8080/"
        },
        "id": "isk-Y6iRG6a5",
        "outputId": "513ca769-8c47-49fd-ed3f-801eddcf6077"
      },
      "outputs": [
        {
          "output_type": "stream",
          "name": "stdout",
          "text": [
            "#\n",
            "#\n",
            "#\n",
            "#\n",
            "#\n",
            "https://www.ibm.com/reports/threat-intelligence\n",
            "https://www.ibm.com/resources/consulting/experience-transformation\n",
            "https://www.ibm.com/resources/consulting/operational-efficiency\n",
            "https://www.ibm.com/resources/consulting/hybrid-cloud-services\n",
            "https://www.ibm.com/consulting\n",
            "#\n",
            "#\n",
            "#\n",
            "#\n",
            "#\n",
            "https://www.ibm.com/employment/?lnk=flatitem\n",
            "https://www.ibm.com/impact\n",
            "https://research.ibm.com/\n",
            "https://www.ibm.com/consulting/?lnk=flathl\n",
            "https://www.ibm.com/consulting/strategy/?lnk=flathl\n",
            "https://www.ibm.com/consulting/ibmix?lnk=flathl\n",
            "https://www.ibm.com/consulting/technology/\n",
            "https://www.ibm.com/consulting/operations/?lnk=flathl\n",
            "https://www.ibm.com/strategic-partnerships\n",
            "http://ibm.com/consulting/ibmix\n",
            "https://www.ibm.com/consulting\n",
            "https://www.ibm.com/sports/masters\n",
            "https://www.ibm.com/products/envizi\n",
            "https://www.ibm.com/products/maximo\n",
            "https://www.ibm.com/sustainability\n",
            "https://www.ibm.com/cloud/campaign/cloud-simplicity\n",
            "https://www.ibm.com/cloud/campaign/cloud-simplicity\n",
            "https://www.ibm.com/products/instana\n",
            "https://www.ibm.com/products/turbonomic\n",
            "https://www.ibm.com/automation\n",
            "https://www.ibm.com/cloud/watson-knowledge-catalog\n",
            "https://www.ibm.com/data-management\n",
            "https://www.ibm.com/data-fabric\n",
            "https://www.ibm.com/\n"
          ]
        }
      ],
      "source": [
        "for link in soup.find_all('a',href=True): \n",
        "    print(link.get('href'))\n"
      ]
    },
    {
      "cell_type": "markdown",
      "metadata": {
        "id": "BS5vZfFvG6a5"
      },
      "source": [
        "## Scrape  all images  Tags\n"
      ]
    },
    {
      "cell_type": "code",
      "execution_count": null,
      "metadata": {
        "colab": {
          "base_uri": "https://localhost:8080/"
        },
        "id": "WerE226rG6a5",
        "outputId": "2eaf6221-585e-4f88-9d73-fb053e5ef455"
      },
      "outputs": [
        {
          "output_type": "stream",
          "name": "stdout",
          "text": [
            "<img alt=\"Close-up of golf ball on a green course\" class=\"bx--image__img\" src=\"https://1.dam.s81c.com/p/0b52088cc24c2f37/CS_the_transform_masters_question_30_prores_frame00.png.global.mr_5x4.jpg\"/>\n",
            "https://1.dam.s81c.com/p/0b52088cc24c2f37/CS_the_transform_masters_question_30_prores_frame00.png.global.mr_5x4.jpg\n",
            "<img alt=\"Aerial view of the Masters golf course with the leader-board\" class=\"bx--image__img bx--card__img\" src=\"https://1.dam.s81c.com/p/0b52088cc24c2f37/CS_the_transform_masters_question_30_prores_frame00.png.global.mr_5x4.jpg\"/>\n",
            "https://1.dam.s81c.com/p/0b52088cc24c2f37/CS_the_transform_masters_question_30_prores_frame00.png.global.mr_5x4.jpg\n",
            "<img alt=\"View of the sky between skyscrapers\" class=\"bx--image__img bx--card__img\" src=\"https://1.dam.s81c.com/p/0b526ddf40c4140c/CS_The_Sustainability_Building_Question_30_ProRes-frame-07-00.png.global.sr_5x4.png\"/>\n",
            "https://1.dam.s81c.com/p/0b526ddf40c4140c/CS_The_Sustainability_Building_Question_30_ProRes-frame-07-00.png.global.sr_5x4.png\n",
            "<img alt=\"Person working in office behind computer screen\" class=\"bx--image__img bx--card__img\" src=\"https://1.dam.s81c.com/p/0b52088cc24c2f41/CS_The_Modernize_Banking_Question_V1_30_ProRes_frame-00-06.png.global.sr_5x4.png\"/>\n",
            "https://1.dam.s81c.com/p/0b52088cc24c2f41/CS_The_Modernize_Banking_Question_V1_30_ProRes_frame-00-06.png.global.sr_5x4.png\n",
            "<img alt=\"Workers in a tap room\" class=\"bx--image__img bx--card__img\" src=\"https://1.dam.s81c.com/p/0b52088cc24c2f3d/CS-The-Automate-Beer-Question-30_ProRes_frame-13-22.png.global.sr_5x4.png\"/>\n",
            "https://1.dam.s81c.com/p/0b52088cc24c2f3d/CS-The-Automate-Beer-Question-30_ProRes_frame-13-22.png.global.sr_5x4.png\n",
            "<img alt=\"Person sitting behind a desk in an office\" class=\"bx--image__img bx--card__img\" src=\"https://1.dam.s81c.com/p/0b52088cc24c2f35/CS_The_Modernize_Banking_Question_V1_30_ProRes-frame-04-30.png.global.sr_5x4.png\"/>\n",
            "https://1.dam.s81c.com/p/0b52088cc24c2f35/CS_The_Modernize_Banking_Question_V1_30_ProRes-frame-04-30.png.global.sr_5x4.png\n",
            "<img alt=\"Grid of diverse group of professionals\" aria-describedby=\"bx--image-2\" class=\"bx--image__img\" src=\"https://1.dam.s81c.com/p/0aac9cf57bcbf324/dotcom-1-overview.jpg.global.sr_16x9.jpg\"/>\n",
            "https://1.dam.s81c.com/p/0aac9cf57bcbf324/dotcom-1-overview.jpg.global.sr_16x9.jpg\n",
            "<img alt=\"professional pointing to a chart\" aria-describedby=\"bx--image-3\" class=\"bx--image__img\" src=\"https://1.dam.s81c.com/p/0aac9cf57c4bf381/0935e0d55846b9ec_dotcom-2-strategy.jpg.global.m_16x9.jpg\"/>\n",
            "https://1.dam.s81c.com/p/0aac9cf57c4bf381/0935e0d55846b9ec_dotcom-2-strategy.jpg.global.m_16x9.jpg\n",
            "<img alt=\"two professionals working with a whiteboard outdoors\" aria-describedby=\"bx--image-4\" class=\"bx--image__img\" src=\"https://1.dam.s81c.com/p/0aac9cf57c4bf382/0656655b47a3af8b_dotcom-3-experience.jpg.global.sr_16x9.jpg\"/>\n",
            "https://1.dam.s81c.com/p/0aac9cf57c4bf382/0656655b47a3af8b_dotcom-3-experience.jpg.global.sr_16x9.jpg\n",
            "<img alt=\"professionals working with a sticky notes on a whiteboard\" aria-describedby=\"bx--image-5\" class=\"bx--image__img\" src=\"https://1.dam.s81c.com/p/0aac9cf57c4bf383/08f9513598a70746_dotcom-4-technology.jpg.global.sr_16x9.jpg\"/>\n",
            "https://1.dam.s81c.com/p/0aac9cf57c4bf383/08f9513598a70746_dotcom-4-technology.jpg.global.sr_16x9.jpg\n",
            "<img alt=\"professionals having a conversation in an office\" aria-describedby=\"bx--image-6\" class=\"bx--image__img\" src=\"https://1.dam.s81c.com/p/0aac9cf57c4bf380/0935e0d55846b9e4_dotcom-5-operations.jpg.global.sr_16x9.jpg\"/>\n",
            "https://1.dam.s81c.com/p/0aac9cf57c4bf380/0935e0d55846b9e4_dotcom-5-operations.jpg.global.sr_16x9.jpg\n",
            "<img alt=\"group of professionals walking down stairs outdoors\" aria-describedby=\"bx--image-7\" class=\"bx--image__img\" src=\"https://1.dam.s81c.com/p/0aac9cf57c4bf384/064e0139f5a3aa3f_dotcom-6-partners.jpg.global.sr_16x9.jpg\"/>\n",
            "https://1.dam.s81c.com/p/0aac9cf57c4bf384/064e0139f5a3aa3f_dotcom-6-partners.jpg.global.sr_16x9.jpg\n"
          ]
        }
      ],
      "source": [
        "for link in soup.find_all('img'):# in html image is represented by the tag <img>\n",
        "    print(link)\n",
        "    print(link.get('src'))"
      ]
    },
    {
      "cell_type": "markdown",
      "metadata": {
        "id": "WBGB2idFG6a6"
      },
      "source": [
        "## Scrape data from HTML tables\n"
      ]
    },
    {
      "cell_type": "code",
      "execution_count": null,
      "metadata": {
        "id": "XOxKjXj2G6a6"
      },
      "outputs": [],
      "source": [
        "\n",
        "url = \"https://cf-courses-data.s3.us.cloud-object-storage.appdomain.cloud/IBM-DA0321EN-SkillsNetwork/labs/datasets/HTMLColorCodes.html\""
      ]
    },
    {
      "cell_type": "code",
      "execution_count": null,
      "metadata": {
        "id": "88VqzrHqG6a8"
      },
      "outputs": [],
      "source": [
        "data  = requests.get(url).text"
      ]
    },
    {
      "cell_type": "code",
      "execution_count": null,
      "metadata": {
        "id": "p5YLIR7EG6a8"
      },
      "outputs": [],
      "source": [
        "soup = BeautifulSoup(data,\"html.parser\")"
      ]
    },
    {
      "cell_type": "code",
      "execution_count": null,
      "metadata": {
        "id": "9jpwmzzyG6a9"
      },
      "outputs": [],
      "source": [
        "table = soup.find('table') "
      ]
    },
    {
      "cell_type": "code",
      "execution_count": null,
      "metadata": {
        "colab": {
          "base_uri": "https://localhost:8080/"
        },
        "id": "GCSMf-4AG6a9",
        "outputId": "a646c284-df38-40b9-dd4d-f39194e40418"
      },
      "outputs": [
        {
          "output_type": "stream",
          "name": "stdout",
          "text": [
            "Color Name--->None\n",
            "lightsalmon--->#FFA07A\n",
            "salmon--->#FA8072\n",
            "darksalmon--->#E9967A\n",
            "lightcoral--->#F08080\n",
            "coral--->#FF7F50\n",
            "tomato--->#FF6347\n",
            "orangered--->#FF4500\n",
            "gold--->#FFD700\n",
            "orange--->#FFA500\n",
            "darkorange--->#FF8C00\n",
            "lightyellow--->#FFFFE0\n",
            "lemonchiffon--->#FFFACD\n",
            "papayawhip--->#FFEFD5\n",
            "moccasin--->#FFE4B5\n",
            "peachpuff--->#FFDAB9\n",
            "palegoldenrod--->#EEE8AA\n",
            "khaki--->#F0E68C\n",
            "darkkhaki--->#BDB76B\n",
            "yellow--->#FFFF00\n",
            "lawngreen--->#7CFC00\n",
            "chartreuse--->#7FFF00\n",
            "limegreen--->#32CD32\n",
            "lime--->#00FF00\n",
            "forestgreen--->#228B22\n",
            "green--->#008000\n",
            "powderblue--->#B0E0E6\n",
            "lightblue--->#ADD8E6\n",
            "lightskyblue--->#87CEFA\n",
            "skyblue--->#87CEEB\n",
            "deepskyblue--->#00BFFF\n",
            "lightsteelblue--->#B0C4DE\n",
            "dodgerblue--->#1E90FF\n"
          ]
        }
      ],
      "source": [
        "for row in table.find_all('tr'): \n",
        "    cols = row.find_all('td') \n",
        "    color_name = cols[2].string \n",
        "    color_code = cols[3].string\n",
        "    print(\"{}--->{}\".format(color_name,color_code))"
      ]
    },
    {
      "cell_type": "markdown",
      "metadata": {
        "id": "PsKBQeF7G6a-"
      },
      "source": [
        "## Scrape data from HTML tables into a DataFrame using BeautifulSoup and Pandas\n"
      ]
    },
    {
      "cell_type": "code",
      "execution_count": null,
      "metadata": {
        "id": "HEoBo1WyG6a-"
      },
      "outputs": [],
      "source": [
        "import pandas as pd"
      ]
    },
    {
      "cell_type": "code",
      "execution_count": null,
      "metadata": {
        "id": "npq6mSbcG6a-"
      },
      "outputs": [],
      "source": [
        "url = \"https://en.wikipedia.org/wiki/World_population\""
      ]
    },
    {
      "cell_type": "code",
      "execution_count": null,
      "metadata": {
        "id": "XaH0sWnbG6a_"
      },
      "outputs": [],
      "source": [
        "data  = requests.get(url).text"
      ]
    },
    {
      "cell_type": "code",
      "execution_count": null,
      "metadata": {
        "id": "eDd1lcjiG6bA"
      },
      "outputs": [],
      "source": [
        "soup = BeautifulSoup(data,\"html.parser\")"
      ]
    },
    {
      "cell_type": "code",
      "execution_count": null,
      "metadata": {
        "id": "KGjAtyS8G6bA"
      },
      "outputs": [],
      "source": [
        "tables = soup.find_all('table') "
      ]
    },
    {
      "cell_type": "code",
      "execution_count": null,
      "metadata": {
        "colab": {
          "base_uri": "https://localhost:8080/"
        },
        "id": "besh1aHlG6bB",
        "outputId": "435761e9-98c0-478c-cd15-e1ea13b80d84"
      },
      "outputs": [
        {
          "output_type": "execute_result",
          "data": {
            "text/plain": [
              "24"
            ]
          },
          "metadata": {},
          "execution_count": 59
        }
      ],
      "source": [
        "len(tables)"
      ]
    },
    {
      "cell_type": "code",
      "execution_count": null,
      "metadata": {
        "colab": {
          "base_uri": "https://localhost:8080/"
        },
        "id": "_nRD-WoRG6bC",
        "outputId": "4d30ee5a-c440-4d68-efd4-e6e64a44e693"
      },
      "outputs": [
        {
          "output_type": "stream",
          "name": "stdout",
          "text": [
            "4\n"
          ]
        }
      ],
      "source": [
        "for index,table in enumerate(tables):\n",
        "    if (\"10 most densely populated countries\" in str(table)):\n",
        "        table_index = index\n",
        "print(table_index)"
      ]
    },
    {
      "cell_type": "code",
      "execution_count": null,
      "metadata": {
        "colab": {
          "base_uri": "https://localhost:8080/"
        },
        "id": "ZA1ZLX1GG6bD",
        "outputId": "adb140e8-9a6f-4db6-f89a-caa82ff7f58a"
      },
      "outputs": [
        {
          "output_type": "stream",
          "name": "stdout",
          "text": [
            "<table class=\"wikitable sortable\" style=\"text-align:right\">\n",
            " <caption>\n",
            "  10 most densely populated countries\n",
            "  <small>\n",
            "   (with population above 5 million)\n",
            "  </small>\n",
            "  <sup class=\"reference\" id=\"cite_ref-:10_106-0\">\n",
            "   <a href=\"#cite_note-:10-106\">\n",
            "    [101]\n",
            "   </a>\n",
            "  </sup>\n",
            " </caption>\n",
            " <tbody>\n",
            "  <tr>\n",
            "   <th scope=\"col\">\n",
            "    Rank\n",
            "   </th>\n",
            "   <th scope=\"col\">\n",
            "    Country\n",
            "   </th>\n",
            "   <th scope=\"col\">\n",
            "    Population\n",
            "   </th>\n",
            "   <th scope=\"col\">\n",
            "    Area\n",
            "    <br/>\n",
            "    <small>\n",
            "     (km\n",
            "     <sup>\n",
            "      2\n",
            "     </sup>\n",
            "     )\n",
            "    </small>\n",
            "   </th>\n",
            "   <th scope=\"col\">\n",
            "    Density\n",
            "    <br/>\n",
            "    <small>\n",
            "     (pop/km\n",
            "     <sup>\n",
            "      2\n",
            "     </sup>\n",
            "     )\n",
            "    </small>\n",
            "   </th>\n",
            "  </tr>\n",
            "  <tr>\n",
            "   <td>\n",
            "    1\n",
            "   </td>\n",
            "   <td align=\"left\">\n",
            "    <span class=\"flagicon\">\n",
            "     <img alt=\"\" class=\"thumbborder\" data-file-height=\"600\" data-file-width=\"900\" decoding=\"async\" height=\"15\" src=\"//upload.wikimedia.org/wikipedia/commons/thumb/4/48/Flag_of_Singapore.svg/23px-Flag_of_Singapore.svg.png\" srcset=\"//upload.wikimedia.org/wikipedia/commons/thumb/4/48/Flag_of_Singapore.svg/35px-Flag_of_Singapore.svg.png 1.5x, //upload.wikimedia.org/wikipedia/commons/thumb/4/48/Flag_of_Singapore.svg/45px-Flag_of_Singapore.svg.png 2x\" width=\"23\"/>\n",
            "    </span>\n",
            "    <a href=\"/wiki/Singapore\" title=\"Singapore\">\n",
            "     Singapore\n",
            "    </a>\n",
            "   </td>\n",
            "   <td>\n",
            "    5,921,231\n",
            "   </td>\n",
            "   <td>\n",
            "    719\n",
            "   </td>\n",
            "   <td>\n",
            "    8,235\n",
            "   </td>\n",
            "  </tr>\n",
            "  <tr>\n",
            "   <td>\n",
            "    2\n",
            "   </td>\n",
            "   <td align=\"left\">\n",
            "    <span class=\"flagicon\">\n",
            "     <img alt=\"\" class=\"thumbborder\" data-file-height=\"600\" data-file-width=\"1000\" decoding=\"async\" height=\"14\" src=\"//upload.wikimedia.org/wikipedia/commons/thumb/f/f9/Flag_of_Bangladesh.svg/23px-Flag_of_Bangladesh.svg.png\" srcset=\"//upload.wikimedia.org/wikipedia/commons/thumb/f/f9/Flag_of_Bangladesh.svg/35px-Flag_of_Bangladesh.svg.png 1.5x, //upload.wikimedia.org/wikipedia/commons/thumb/f/f9/Flag_of_Bangladesh.svg/46px-Flag_of_Bangladesh.svg.png 2x\" width=\"23\"/>\n",
            "    </span>\n",
            "    <a href=\"/wiki/Bangladesh\" title=\"Bangladesh\">\n",
            "     Bangladesh\n",
            "    </a>\n",
            "   </td>\n",
            "   <td>\n",
            "    165,650,475\n",
            "   </td>\n",
            "   <td>\n",
            "    148,460\n",
            "   </td>\n",
            "   <td>\n",
            "    1,116\n",
            "   </td>\n",
            "  </tr>\n",
            "  <tr>\n",
            "   <td>\n",
            "    3\n",
            "   </td>\n",
            "   <td align=\"left\">\n",
            "    <p>\n",
            "     <span class=\"flagicon\">\n",
            "      <img alt=\"\" class=\"thumbborder\" data-file-height=\"216\" data-file-width=\"432\" decoding=\"async\" height=\"12\" src=\"//upload.wikimedia.org/wikipedia/commons/thumb/0/00/Flag_of_Palestine.svg/23px-Flag_of_Palestine.svg.png\" srcset=\"//upload.wikimedia.org/wikipedia/commons/thumb/0/00/Flag_of_Palestine.svg/35px-Flag_of_Palestine.svg.png 1.5x, //upload.wikimedia.org/wikipedia/commons/thumb/0/00/Flag_of_Palestine.svg/46px-Flag_of_Palestine.svg.png 2x\" width=\"23\"/>\n",
            "     </span>\n",
            "     <a href=\"/wiki/State_of_Palestine\" title=\"State of Palestine\">\n",
            "      Palestine\n",
            "     </a>\n",
            "     <sup class=\"reference\" id=\"cite_ref-107\">\n",
            "      <a href=\"#cite_note-107\">\n",
            "       [102]\n",
            "      </a>\n",
            "     </sup>\n",
            "    </p>\n",
            "   </td>\n",
            "   <td>\n",
            "    5,223,000\n",
            "   </td>\n",
            "   <td>\n",
            "    6,025\n",
            "   </td>\n",
            "   <td>\n",
            "    867\n",
            "   </td>\n",
            "  </tr>\n",
            "  <tr>\n",
            "   <td>\n",
            "    4\n",
            "   </td>\n",
            "   <td align=\"left\">\n",
            "    <span class=\"flagicon\">\n",
            "     <img alt=\"\" class=\"thumbborder\" data-file-height=\"600\" data-file-width=\"900\" decoding=\"async\" height=\"15\" src=\"//upload.wikimedia.org/wikipedia/commons/thumb/7/72/Flag_of_the_Republic_of_China.svg/23px-Flag_of_the_Republic_of_China.svg.png\" srcset=\"//upload.wikimedia.org/wikipedia/commons/thumb/7/72/Flag_of_the_Republic_of_China.svg/35px-Flag_of_the_Republic_of_China.svg.png 1.5x, //upload.wikimedia.org/wikipedia/commons/thumb/7/72/Flag_of_the_Republic_of_China.svg/45px-Flag_of_the_Republic_of_China.svg.png 2x\" width=\"23\"/>\n",
            "    </span>\n",
            "    <a href=\"/wiki/Taiwan\" title=\"Taiwan\">\n",
            "     Taiwan\n",
            "    </a>\n",
            "   </td>\n",
            "   <td>\n",
            "    23,580,712\n",
            "   </td>\n",
            "   <td>\n",
            "    35,980\n",
            "   </td>\n",
            "   <td>\n",
            "    655\n",
            "   </td>\n",
            "  </tr>\n",
            "  <tr>\n",
            "   <td>\n",
            "    5\n",
            "   </td>\n",
            "   <td align=\"left\">\n",
            "    <span class=\"flagicon\">\n",
            "     <img alt=\"\" class=\"thumbborder\" data-file-height=\"600\" data-file-width=\"900\" decoding=\"async\" height=\"15\" src=\"//upload.wikimedia.org/wikipedia/commons/thumb/0/09/Flag_of_South_Korea.svg/23px-Flag_of_South_Korea.svg.png\" srcset=\"//upload.wikimedia.org/wikipedia/commons/thumb/0/09/Flag_of_South_Korea.svg/35px-Flag_of_South_Korea.svg.png 1.5x, //upload.wikimedia.org/wikipedia/commons/thumb/0/09/Flag_of_South_Korea.svg/45px-Flag_of_South_Korea.svg.png 2x\" width=\"23\"/>\n",
            "    </span>\n",
            "    <a href=\"/wiki/South_Korea\" title=\"South Korea\">\n",
            "     South Korea\n",
            "    </a>\n",
            "   </td>\n",
            "   <td>\n",
            "    51,844,834\n",
            "   </td>\n",
            "   <td>\n",
            "    99,720\n",
            "   </td>\n",
            "   <td>\n",
            "    520\n",
            "   </td>\n",
            "  </tr>\n",
            "  <tr>\n",
            "   <td>\n",
            "    6\n",
            "   </td>\n",
            "   <td align=\"left\">\n",
            "    <span class=\"flagicon\">\n",
            "     <img alt=\"\" class=\"thumbborder\" data-file-height=\"600\" data-file-width=\"900\" decoding=\"async\" height=\"15\" src=\"//upload.wikimedia.org/wikipedia/commons/thumb/5/59/Flag_of_Lebanon.svg/23px-Flag_of_Lebanon.svg.png\" srcset=\"//upload.wikimedia.org/wikipedia/commons/thumb/5/59/Flag_of_Lebanon.svg/35px-Flag_of_Lebanon.svg.png 1.5x, //upload.wikimedia.org/wikipedia/commons/thumb/5/59/Flag_of_Lebanon.svg/45px-Flag_of_Lebanon.svg.png 2x\" width=\"23\"/>\n",
            "    </span>\n",
            "    <a href=\"/wiki/Lebanon\" title=\"Lebanon\">\n",
            "     Lebanon\n",
            "    </a>\n",
            "   </td>\n",
            "   <td>\n",
            "    5,296,814\n",
            "   </td>\n",
            "   <td>\n",
            "    10,400\n",
            "   </td>\n",
            "   <td>\n",
            "    509\n",
            "   </td>\n",
            "  </tr>\n",
            "  <tr>\n",
            "   <td>\n",
            "    7\n",
            "   </td>\n",
            "   <td align=\"left\">\n",
            "    <span class=\"flagicon\">\n",
            "     <img alt=\"\" class=\"thumbborder\" data-file-height=\"600\" data-file-width=\"900\" decoding=\"async\" height=\"15\" src=\"//upload.wikimedia.org/wikipedia/commons/thumb/1/17/Flag_of_Rwanda.svg/23px-Flag_of_Rwanda.svg.png\" srcset=\"//upload.wikimedia.org/wikipedia/commons/thumb/1/17/Flag_of_Rwanda.svg/35px-Flag_of_Rwanda.svg.png 1.5x, //upload.wikimedia.org/wikipedia/commons/thumb/1/17/Flag_of_Rwanda.svg/45px-Flag_of_Rwanda.svg.png 2x\" width=\"23\"/>\n",
            "    </span>\n",
            "    <a href=\"/wiki/Rwanda\" title=\"Rwanda\">\n",
            "     Rwanda\n",
            "    </a>\n",
            "   </td>\n",
            "   <td>\n",
            "    13,173,730\n",
            "   </td>\n",
            "   <td>\n",
            "    26,338\n",
            "   </td>\n",
            "   <td>\n",
            "    500\n",
            "   </td>\n",
            "  </tr>\n",
            "  <tr>\n",
            "   <td>\n",
            "    8\n",
            "   </td>\n",
            "   <td align=\"left\">\n",
            "    <span class=\"flagicon\">\n",
            "     <img alt=\"\" class=\"thumbborder\" data-file-height=\"600\" data-file-width=\"1000\" decoding=\"async\" height=\"14\" src=\"//upload.wikimedia.org/wikipedia/commons/thumb/5/50/Flag_of_Burundi.svg/23px-Flag_of_Burundi.svg.png\" srcset=\"//upload.wikimedia.org/wikipedia/commons/thumb/5/50/Flag_of_Burundi.svg/35px-Flag_of_Burundi.svg.png 1.5x, //upload.wikimedia.org/wikipedia/commons/thumb/5/50/Flag_of_Burundi.svg/46px-Flag_of_Burundi.svg.png 2x\" width=\"23\"/>\n",
            "    </span>\n",
            "    <a href=\"/wiki/Burundi\" title=\"Burundi\">\n",
            "     Burundi\n",
            "    </a>\n",
            "   </td>\n",
            "   <td>\n",
            "    12,696,478\n",
            "   </td>\n",
            "   <td>\n",
            "    27,830\n",
            "   </td>\n",
            "   <td>\n",
            "    456\n",
            "   </td>\n",
            "  </tr>\n",
            "  <tr>\n",
            "   <td>\n",
            "    9\n",
            "   </td>\n",
            "   <td align=\"left\">\n",
            "    <span class=\"flagicon\">\n",
            "     <img alt=\"\" class=\"thumbborder\" data-file-height=\"900\" data-file-width=\"1350\" decoding=\"async\" height=\"15\" src=\"//upload.wikimedia.org/wikipedia/en/thumb/4/41/Flag_of_India.svg/23px-Flag_of_India.svg.png\" srcset=\"//upload.wikimedia.org/wikipedia/en/thumb/4/41/Flag_of_India.svg/35px-Flag_of_India.svg.png 1.5x, //upload.wikimedia.org/wikipedia/en/thumb/4/41/Flag_of_India.svg/45px-Flag_of_India.svg.png 2x\" width=\"23\"/>\n",
            "    </span>\n",
            "    <a href=\"/wiki/India\" title=\"India\">\n",
            "     India\n",
            "    </a>\n",
            "   </td>\n",
            "   <td>\n",
            "    1,389,637,446\n",
            "   </td>\n",
            "   <td>\n",
            "    3,287,263\n",
            "   </td>\n",
            "   <td>\n",
            "    423\n",
            "   </td>\n",
            "  </tr>\n",
            "  <tr>\n",
            "   <td>\n",
            "    10\n",
            "   </td>\n",
            "   <td align=\"left\">\n",
            "    <span class=\"flagicon\">\n",
            "     <img alt=\"\" class=\"thumbborder\" data-file-height=\"600\" data-file-width=\"900\" decoding=\"async\" height=\"15\" src=\"//upload.wikimedia.org/wikipedia/commons/thumb/2/20/Flag_of_the_Netherlands.svg/23px-Flag_of_the_Netherlands.svg.png\" srcset=\"//upload.wikimedia.org/wikipedia/commons/thumb/2/20/Flag_of_the_Netherlands.svg/35px-Flag_of_the_Netherlands.svg.png 1.5x, //upload.wikimedia.org/wikipedia/commons/thumb/2/20/Flag_of_the_Netherlands.svg/45px-Flag_of_the_Netherlands.svg.png 2x\" width=\"23\"/>\n",
            "    </span>\n",
            "    <a href=\"/wiki/Netherlands\" title=\"Netherlands\">\n",
            "     Netherlands\n",
            "    </a>\n",
            "   </td>\n",
            "   <td>\n",
            "    17,400,824\n",
            "   </td>\n",
            "   <td>\n",
            "    41,543\n",
            "   </td>\n",
            "   <td>\n",
            "    419\n",
            "   </td>\n",
            "  </tr>\n",
            " </tbody>\n",
            "</table>\n",
            "\n"
          ]
        }
      ],
      "source": [
        "print(tables[table_index].prettify())"
      ]
    },
    {
      "cell_type": "code",
      "execution_count": null,
      "metadata": {
        "colab": {
          "base_uri": "https://localhost:8080/",
          "height": 710
        },
        "id": "VkVbFv-YG6bD",
        "outputId": "66753d31-0a93-4ce1-8d91-6c886df3c23b"
      },
      "outputs": [
        {
          "output_type": "stream",
          "name": "stderr",
          "text": [
            "<ipython-input-62-b5a72626b929>:11: FutureWarning: The frame.append method is deprecated and will be removed from pandas in a future version. Use pandas.concat instead.\n",
            "  population_data = population_data.append({\"Rank\":rank, \"Country\":country, \"Population\":population, \"Area\":area, \"Density\":density}, ignore_index=True)\n",
            "<ipython-input-62-b5a72626b929>:11: FutureWarning: The frame.append method is deprecated and will be removed from pandas in a future version. Use pandas.concat instead.\n",
            "  population_data = population_data.append({\"Rank\":rank, \"Country\":country, \"Population\":population, \"Area\":area, \"Density\":density}, ignore_index=True)\n",
            "<ipython-input-62-b5a72626b929>:11: FutureWarning: The frame.append method is deprecated and will be removed from pandas in a future version. Use pandas.concat instead.\n",
            "  population_data = population_data.append({\"Rank\":rank, \"Country\":country, \"Population\":population, \"Area\":area, \"Density\":density}, ignore_index=True)\n",
            "<ipython-input-62-b5a72626b929>:11: FutureWarning: The frame.append method is deprecated and will be removed from pandas in a future version. Use pandas.concat instead.\n",
            "  population_data = population_data.append({\"Rank\":rank, \"Country\":country, \"Population\":population, \"Area\":area, \"Density\":density}, ignore_index=True)\n",
            "<ipython-input-62-b5a72626b929>:11: FutureWarning: The frame.append method is deprecated and will be removed from pandas in a future version. Use pandas.concat instead.\n",
            "  population_data = population_data.append({\"Rank\":rank, \"Country\":country, \"Population\":population, \"Area\":area, \"Density\":density}, ignore_index=True)\n",
            "<ipython-input-62-b5a72626b929>:11: FutureWarning: The frame.append method is deprecated and will be removed from pandas in a future version. Use pandas.concat instead.\n",
            "  population_data = population_data.append({\"Rank\":rank, \"Country\":country, \"Population\":population, \"Area\":area, \"Density\":density}, ignore_index=True)\n",
            "<ipython-input-62-b5a72626b929>:11: FutureWarning: The frame.append method is deprecated and will be removed from pandas in a future version. Use pandas.concat instead.\n",
            "  population_data = population_data.append({\"Rank\":rank, \"Country\":country, \"Population\":population, \"Area\":area, \"Density\":density}, ignore_index=True)\n",
            "<ipython-input-62-b5a72626b929>:11: FutureWarning: The frame.append method is deprecated and will be removed from pandas in a future version. Use pandas.concat instead.\n",
            "  population_data = population_data.append({\"Rank\":rank, \"Country\":country, \"Population\":population, \"Area\":area, \"Density\":density}, ignore_index=True)\n",
            "<ipython-input-62-b5a72626b929>:11: FutureWarning: The frame.append method is deprecated and will be removed from pandas in a future version. Use pandas.concat instead.\n",
            "  population_data = population_data.append({\"Rank\":rank, \"Country\":country, \"Population\":population, \"Area\":area, \"Density\":density}, ignore_index=True)\n",
            "<ipython-input-62-b5a72626b929>:11: FutureWarning: The frame.append method is deprecated and will be removed from pandas in a future version. Use pandas.concat instead.\n",
            "  population_data = population_data.append({\"Rank\":rank, \"Country\":country, \"Population\":population, \"Area\":area, \"Density\":density}, ignore_index=True)\n"
          ]
        },
        {
          "output_type": "execute_result",
          "data": {
            "text/plain": [
              "  Rank                Country     Population       Area Density\n",
              "0    1              Singapore      5,921,231        719   8,235\n",
              "1    2             Bangladesh    165,650,475    148,460   1,116\n",
              "2    3  \\n Palestine[102]\\n\\n      5,223,000      6,025     867\n",
              "3    4                 Taiwan     23,580,712     35,980     655\n",
              "4    5            South Korea     51,844,834     99,720     520\n",
              "5    6                Lebanon      5,296,814     10,400     509\n",
              "6    7                 Rwanda     13,173,730     26,338     500\n",
              "7    8                Burundi     12,696,478     27,830     456\n",
              "8    9                  India  1,389,637,446  3,287,263     423\n",
              "9   10            Netherlands     17,400,824     41,543     419"
            ],
            "text/html": [
              "\n",
              "  <div id=\"df-34bc9caf-8651-4d06-a69a-f4e27fd59adf\">\n",
              "    <div class=\"colab-df-container\">\n",
              "      <div>\n",
              "<style scoped>\n",
              "    .dataframe tbody tr th:only-of-type {\n",
              "        vertical-align: middle;\n",
              "    }\n",
              "\n",
              "    .dataframe tbody tr th {\n",
              "        vertical-align: top;\n",
              "    }\n",
              "\n",
              "    .dataframe thead th {\n",
              "        text-align: right;\n",
              "    }\n",
              "</style>\n",
              "<table border=\"1\" class=\"dataframe\">\n",
              "  <thead>\n",
              "    <tr style=\"text-align: right;\">\n",
              "      <th></th>\n",
              "      <th>Rank</th>\n",
              "      <th>Country</th>\n",
              "      <th>Population</th>\n",
              "      <th>Area</th>\n",
              "      <th>Density</th>\n",
              "    </tr>\n",
              "  </thead>\n",
              "  <tbody>\n",
              "    <tr>\n",
              "      <th>0</th>\n",
              "      <td>1</td>\n",
              "      <td>Singapore</td>\n",
              "      <td>5,921,231</td>\n",
              "      <td>719</td>\n",
              "      <td>8,235</td>\n",
              "    </tr>\n",
              "    <tr>\n",
              "      <th>1</th>\n",
              "      <td>2</td>\n",
              "      <td>Bangladesh</td>\n",
              "      <td>165,650,475</td>\n",
              "      <td>148,460</td>\n",
              "      <td>1,116</td>\n",
              "    </tr>\n",
              "    <tr>\n",
              "      <th>2</th>\n",
              "      <td>3</td>\n",
              "      <td>\\n Palestine[102]\\n\\n</td>\n",
              "      <td>5,223,000</td>\n",
              "      <td>6,025</td>\n",
              "      <td>867</td>\n",
              "    </tr>\n",
              "    <tr>\n",
              "      <th>3</th>\n",
              "      <td>4</td>\n",
              "      <td>Taiwan</td>\n",
              "      <td>23,580,712</td>\n",
              "      <td>35,980</td>\n",
              "      <td>655</td>\n",
              "    </tr>\n",
              "    <tr>\n",
              "      <th>4</th>\n",
              "      <td>5</td>\n",
              "      <td>South Korea</td>\n",
              "      <td>51,844,834</td>\n",
              "      <td>99,720</td>\n",
              "      <td>520</td>\n",
              "    </tr>\n",
              "    <tr>\n",
              "      <th>5</th>\n",
              "      <td>6</td>\n",
              "      <td>Lebanon</td>\n",
              "      <td>5,296,814</td>\n",
              "      <td>10,400</td>\n",
              "      <td>509</td>\n",
              "    </tr>\n",
              "    <tr>\n",
              "      <th>6</th>\n",
              "      <td>7</td>\n",
              "      <td>Rwanda</td>\n",
              "      <td>13,173,730</td>\n",
              "      <td>26,338</td>\n",
              "      <td>500</td>\n",
              "    </tr>\n",
              "    <tr>\n",
              "      <th>7</th>\n",
              "      <td>8</td>\n",
              "      <td>Burundi</td>\n",
              "      <td>12,696,478</td>\n",
              "      <td>27,830</td>\n",
              "      <td>456</td>\n",
              "    </tr>\n",
              "    <tr>\n",
              "      <th>8</th>\n",
              "      <td>9</td>\n",
              "      <td>India</td>\n",
              "      <td>1,389,637,446</td>\n",
              "      <td>3,287,263</td>\n",
              "      <td>423</td>\n",
              "    </tr>\n",
              "    <tr>\n",
              "      <th>9</th>\n",
              "      <td>10</td>\n",
              "      <td>Netherlands</td>\n",
              "      <td>17,400,824</td>\n",
              "      <td>41,543</td>\n",
              "      <td>419</td>\n",
              "    </tr>\n",
              "  </tbody>\n",
              "</table>\n",
              "</div>\n",
              "      <button class=\"colab-df-convert\" onclick=\"convertToInteractive('df-34bc9caf-8651-4d06-a69a-f4e27fd59adf')\"\n",
              "              title=\"Convert this dataframe to an interactive table.\"\n",
              "              style=\"display:none;\">\n",
              "        \n",
              "  <svg xmlns=\"http://www.w3.org/2000/svg\" height=\"24px\"viewBox=\"0 0 24 24\"\n",
              "       width=\"24px\">\n",
              "    <path d=\"M0 0h24v24H0V0z\" fill=\"none\"/>\n",
              "    <path d=\"M18.56 5.44l.94 2.06.94-2.06 2.06-.94-2.06-.94-.94-2.06-.94 2.06-2.06.94zm-11 1L8.5 8.5l.94-2.06 2.06-.94-2.06-.94L8.5 2.5l-.94 2.06-2.06.94zm10 10l.94 2.06.94-2.06 2.06-.94-2.06-.94-.94-2.06-.94 2.06-2.06.94z\"/><path d=\"M17.41 7.96l-1.37-1.37c-.4-.4-.92-.59-1.43-.59-.52 0-1.04.2-1.43.59L10.3 9.45l-7.72 7.72c-.78.78-.78 2.05 0 2.83L4 21.41c.39.39.9.59 1.41.59.51 0 1.02-.2 1.41-.59l7.78-7.78 2.81-2.81c.8-.78.8-2.07 0-2.86zM5.41 20L4 18.59l7.72-7.72 1.47 1.35L5.41 20z\"/>\n",
              "  </svg>\n",
              "      </button>\n",
              "      \n",
              "  <style>\n",
              "    .colab-df-container {\n",
              "      display:flex;\n",
              "      flex-wrap:wrap;\n",
              "      gap: 12px;\n",
              "    }\n",
              "\n",
              "    .colab-df-convert {\n",
              "      background-color: #E8F0FE;\n",
              "      border: none;\n",
              "      border-radius: 50%;\n",
              "      cursor: pointer;\n",
              "      display: none;\n",
              "      fill: #1967D2;\n",
              "      height: 32px;\n",
              "      padding: 0 0 0 0;\n",
              "      width: 32px;\n",
              "    }\n",
              "\n",
              "    .colab-df-convert:hover {\n",
              "      background-color: #E2EBFA;\n",
              "      box-shadow: 0px 1px 2px rgba(60, 64, 67, 0.3), 0px 1px 3px 1px rgba(60, 64, 67, 0.15);\n",
              "      fill: #174EA6;\n",
              "    }\n",
              "\n",
              "    [theme=dark] .colab-df-convert {\n",
              "      background-color: #3B4455;\n",
              "      fill: #D2E3FC;\n",
              "    }\n",
              "\n",
              "    [theme=dark] .colab-df-convert:hover {\n",
              "      background-color: #434B5C;\n",
              "      box-shadow: 0px 1px 3px 1px rgba(0, 0, 0, 0.15);\n",
              "      filter: drop-shadow(0px 1px 2px rgba(0, 0, 0, 0.3));\n",
              "      fill: #FFFFFF;\n",
              "    }\n",
              "  </style>\n",
              "\n",
              "      <script>\n",
              "        const buttonEl =\n",
              "          document.querySelector('#df-34bc9caf-8651-4d06-a69a-f4e27fd59adf button.colab-df-convert');\n",
              "        buttonEl.style.display =\n",
              "          google.colab.kernel.accessAllowed ? 'block' : 'none';\n",
              "\n",
              "        async function convertToInteractive(key) {\n",
              "          const element = document.querySelector('#df-34bc9caf-8651-4d06-a69a-f4e27fd59adf');\n",
              "          const dataTable =\n",
              "            await google.colab.kernel.invokeFunction('convertToInteractive',\n",
              "                                                     [key], {});\n",
              "          if (!dataTable) return;\n",
              "\n",
              "          const docLinkHtml = 'Like what you see? Visit the ' +\n",
              "            '<a target=\"_blank\" href=https://colab.research.google.com/notebooks/data_table.ipynb>data table notebook</a>'\n",
              "            + ' to learn more about interactive tables.';\n",
              "          element.innerHTML = '';\n",
              "          dataTable['output_type'] = 'display_data';\n",
              "          await google.colab.output.renderOutput(dataTable, element);\n",
              "          const docLink = document.createElement('div');\n",
              "          docLink.innerHTML = docLinkHtml;\n",
              "          element.appendChild(docLink);\n",
              "        }\n",
              "      </script>\n",
              "    </div>\n",
              "  </div>\n",
              "  "
            ]
          },
          "metadata": {},
          "execution_count": 62
        }
      ],
      "source": [
        "population_data = pd.DataFrame(columns=[\"Rank\", \"Country\", \"Population\", \"Area\", \"Density\"])\n",
        "\n",
        "for row in tables[table_index].tbody.find_all(\"tr\"):\n",
        "    col = row.find_all(\"td\")\n",
        "    if (col != []):\n",
        "        rank = col[0].text\n",
        "        country = col[1].text\n",
        "        population = col[2].text.strip()\n",
        "        area = col[3].text.strip()\n",
        "        density = col[4].text.strip()\n",
        "        population_data = population_data.append({\"Rank\":rank, \"Country\":country, \"Population\":population, \"Area\":area, \"Density\":density}, ignore_index=True)\n",
        "\n",
        "population_data"
      ]
    },
    {
      "cell_type": "markdown",
      "metadata": {
        "id": "qGOQ8s5wG6bF"
      },
      "source": [
        "## Scrape data from HTML tables into a DataFrame using BeautifulSoup and read_html\n"
      ]
    },
    {
      "cell_type": "code",
      "execution_count": null,
      "metadata": {
        "colab": {
          "base_uri": "https://localhost:8080/"
        },
        "id": "wdY-nXaOG6bH",
        "outputId": "2a680200-ae5d-4e7d-9f6b-f91cb7c858f1"
      },
      "outputs": [
        {
          "output_type": "execute_result",
          "data": {
            "text/plain": [
              "[   Rank         Country  Population  Area(km2)  Density(pop/km2)  \\\n",
              " 0     1           India  1389637446    3287263               423   \n",
              " 1     2        Pakistan   242923845     796095               305   \n",
              " 2     3      Bangladesh   165650475     148460              1116   \n",
              " 3     4           Japan   124214766     377915               329   \n",
              " 4     5     Philippines   114597229     300000               382   \n",
              " 5     6         Vietnam   103808319     331210               313   \n",
              " 6     7  United Kingdom    67791400     243610               278   \n",
              " 7     8     South Korea    51844834      99720               520   \n",
              " 8     9          Taiwan    23580712      35980               655   \n",
              " 9    10       Sri Lanka    23187516      65610               353   \n",
              " \n",
              "   Population trend[citation needed]  \n",
              " 0                           Growing  \n",
              " 1                   Rapidly growing  \n",
              " 2                           Growing  \n",
              " 3                    Declining[103]  \n",
              " 4                           Growing  \n",
              " 5                           Growing  \n",
              " 6                           Growing  \n",
              " 7                            Steady  \n",
              " 8                            Steady  \n",
              " 9                           Growing  ]"
            ]
          },
          "metadata": {},
          "execution_count": 63
        }
      ],
      "source": [
        "pd.read_html(str(tables[5]), flavor='bs4')"
      ]
    },
    {
      "cell_type": "code",
      "execution_count": null,
      "metadata": {
        "colab": {
          "base_uri": "https://localhost:8080/",
          "height": 363
        },
        "id": "OwZ9bbYsG6bQ",
        "outputId": "736dd76e-fabb-42de-867a-098c103658a0"
      },
      "outputs": [
        {
          "output_type": "execute_result",
          "data": {
            "text/plain": [
              "   Rank         Country  Population  Area(km2)  Density(pop/km2)  \\\n",
              "0     1           India  1389637446    3287263               423   \n",
              "1     2        Pakistan   242923845     796095               305   \n",
              "2     3      Bangladesh   165650475     148460              1116   \n",
              "3     4           Japan   124214766     377915               329   \n",
              "4     5     Philippines   114597229     300000               382   \n",
              "5     6         Vietnam   103808319     331210               313   \n",
              "6     7  United Kingdom    67791400     243610               278   \n",
              "7     8     South Korea    51844834      99720               520   \n",
              "8     9          Taiwan    23580712      35980               655   \n",
              "9    10       Sri Lanka    23187516      65610               353   \n",
              "\n",
              "  Population trend[citation needed]  \n",
              "0                           Growing  \n",
              "1                   Rapidly growing  \n",
              "2                           Growing  \n",
              "3                    Declining[103]  \n",
              "4                           Growing  \n",
              "5                           Growing  \n",
              "6                           Growing  \n",
              "7                            Steady  \n",
              "8                            Steady  \n",
              "9                           Growing  "
            ],
            "text/html": [
              "\n",
              "  <div id=\"df-9aa1f902-1ab5-46ec-9066-f3381a579c7a\">\n",
              "    <div class=\"colab-df-container\">\n",
              "      <div>\n",
              "<style scoped>\n",
              "    .dataframe tbody tr th:only-of-type {\n",
              "        vertical-align: middle;\n",
              "    }\n",
              "\n",
              "    .dataframe tbody tr th {\n",
              "        vertical-align: top;\n",
              "    }\n",
              "\n",
              "    .dataframe thead th {\n",
              "        text-align: right;\n",
              "    }\n",
              "</style>\n",
              "<table border=\"1\" class=\"dataframe\">\n",
              "  <thead>\n",
              "    <tr style=\"text-align: right;\">\n",
              "      <th></th>\n",
              "      <th>Rank</th>\n",
              "      <th>Country</th>\n",
              "      <th>Population</th>\n",
              "      <th>Area(km2)</th>\n",
              "      <th>Density(pop/km2)</th>\n",
              "      <th>Population trend[citation needed]</th>\n",
              "    </tr>\n",
              "  </thead>\n",
              "  <tbody>\n",
              "    <tr>\n",
              "      <th>0</th>\n",
              "      <td>1</td>\n",
              "      <td>India</td>\n",
              "      <td>1389637446</td>\n",
              "      <td>3287263</td>\n",
              "      <td>423</td>\n",
              "      <td>Growing</td>\n",
              "    </tr>\n",
              "    <tr>\n",
              "      <th>1</th>\n",
              "      <td>2</td>\n",
              "      <td>Pakistan</td>\n",
              "      <td>242923845</td>\n",
              "      <td>796095</td>\n",
              "      <td>305</td>\n",
              "      <td>Rapidly growing</td>\n",
              "    </tr>\n",
              "    <tr>\n",
              "      <th>2</th>\n",
              "      <td>3</td>\n",
              "      <td>Bangladesh</td>\n",
              "      <td>165650475</td>\n",
              "      <td>148460</td>\n",
              "      <td>1116</td>\n",
              "      <td>Growing</td>\n",
              "    </tr>\n",
              "    <tr>\n",
              "      <th>3</th>\n",
              "      <td>4</td>\n",
              "      <td>Japan</td>\n",
              "      <td>124214766</td>\n",
              "      <td>377915</td>\n",
              "      <td>329</td>\n",
              "      <td>Declining[103]</td>\n",
              "    </tr>\n",
              "    <tr>\n",
              "      <th>4</th>\n",
              "      <td>5</td>\n",
              "      <td>Philippines</td>\n",
              "      <td>114597229</td>\n",
              "      <td>300000</td>\n",
              "      <td>382</td>\n",
              "      <td>Growing</td>\n",
              "    </tr>\n",
              "    <tr>\n",
              "      <th>5</th>\n",
              "      <td>6</td>\n",
              "      <td>Vietnam</td>\n",
              "      <td>103808319</td>\n",
              "      <td>331210</td>\n",
              "      <td>313</td>\n",
              "      <td>Growing</td>\n",
              "    </tr>\n",
              "    <tr>\n",
              "      <th>6</th>\n",
              "      <td>7</td>\n",
              "      <td>United Kingdom</td>\n",
              "      <td>67791400</td>\n",
              "      <td>243610</td>\n",
              "      <td>278</td>\n",
              "      <td>Growing</td>\n",
              "    </tr>\n",
              "    <tr>\n",
              "      <th>7</th>\n",
              "      <td>8</td>\n",
              "      <td>South Korea</td>\n",
              "      <td>51844834</td>\n",
              "      <td>99720</td>\n",
              "      <td>520</td>\n",
              "      <td>Steady</td>\n",
              "    </tr>\n",
              "    <tr>\n",
              "      <th>8</th>\n",
              "      <td>9</td>\n",
              "      <td>Taiwan</td>\n",
              "      <td>23580712</td>\n",
              "      <td>35980</td>\n",
              "      <td>655</td>\n",
              "      <td>Steady</td>\n",
              "    </tr>\n",
              "    <tr>\n",
              "      <th>9</th>\n",
              "      <td>10</td>\n",
              "      <td>Sri Lanka</td>\n",
              "      <td>23187516</td>\n",
              "      <td>65610</td>\n",
              "      <td>353</td>\n",
              "      <td>Growing</td>\n",
              "    </tr>\n",
              "  </tbody>\n",
              "</table>\n",
              "</div>\n",
              "      <button class=\"colab-df-convert\" onclick=\"convertToInteractive('df-9aa1f902-1ab5-46ec-9066-f3381a579c7a')\"\n",
              "              title=\"Convert this dataframe to an interactive table.\"\n",
              "              style=\"display:none;\">\n",
              "        \n",
              "  <svg xmlns=\"http://www.w3.org/2000/svg\" height=\"24px\"viewBox=\"0 0 24 24\"\n",
              "       width=\"24px\">\n",
              "    <path d=\"M0 0h24v24H0V0z\" fill=\"none\"/>\n",
              "    <path d=\"M18.56 5.44l.94 2.06.94-2.06 2.06-.94-2.06-.94-.94-2.06-.94 2.06-2.06.94zm-11 1L8.5 8.5l.94-2.06 2.06-.94-2.06-.94L8.5 2.5l-.94 2.06-2.06.94zm10 10l.94 2.06.94-2.06 2.06-.94-2.06-.94-.94-2.06-.94 2.06-2.06.94z\"/><path d=\"M17.41 7.96l-1.37-1.37c-.4-.4-.92-.59-1.43-.59-.52 0-1.04.2-1.43.59L10.3 9.45l-7.72 7.72c-.78.78-.78 2.05 0 2.83L4 21.41c.39.39.9.59 1.41.59.51 0 1.02-.2 1.41-.59l7.78-7.78 2.81-2.81c.8-.78.8-2.07 0-2.86zM5.41 20L4 18.59l7.72-7.72 1.47 1.35L5.41 20z\"/>\n",
              "  </svg>\n",
              "      </button>\n",
              "      \n",
              "  <style>\n",
              "    .colab-df-container {\n",
              "      display:flex;\n",
              "      flex-wrap:wrap;\n",
              "      gap: 12px;\n",
              "    }\n",
              "\n",
              "    .colab-df-convert {\n",
              "      background-color: #E8F0FE;\n",
              "      border: none;\n",
              "      border-radius: 50%;\n",
              "      cursor: pointer;\n",
              "      display: none;\n",
              "      fill: #1967D2;\n",
              "      height: 32px;\n",
              "      padding: 0 0 0 0;\n",
              "      width: 32px;\n",
              "    }\n",
              "\n",
              "    .colab-df-convert:hover {\n",
              "      background-color: #E2EBFA;\n",
              "      box-shadow: 0px 1px 2px rgba(60, 64, 67, 0.3), 0px 1px 3px 1px rgba(60, 64, 67, 0.15);\n",
              "      fill: #174EA6;\n",
              "    }\n",
              "\n",
              "    [theme=dark] .colab-df-convert {\n",
              "      background-color: #3B4455;\n",
              "      fill: #D2E3FC;\n",
              "    }\n",
              "\n",
              "    [theme=dark] .colab-df-convert:hover {\n",
              "      background-color: #434B5C;\n",
              "      box-shadow: 0px 1px 3px 1px rgba(0, 0, 0, 0.15);\n",
              "      filter: drop-shadow(0px 1px 2px rgba(0, 0, 0, 0.3));\n",
              "      fill: #FFFFFF;\n",
              "    }\n",
              "  </style>\n",
              "\n",
              "      <script>\n",
              "        const buttonEl =\n",
              "          document.querySelector('#df-9aa1f902-1ab5-46ec-9066-f3381a579c7a button.colab-df-convert');\n",
              "        buttonEl.style.display =\n",
              "          google.colab.kernel.accessAllowed ? 'block' : 'none';\n",
              "\n",
              "        async function convertToInteractive(key) {\n",
              "          const element = document.querySelector('#df-9aa1f902-1ab5-46ec-9066-f3381a579c7a');\n",
              "          const dataTable =\n",
              "            await google.colab.kernel.invokeFunction('convertToInteractive',\n",
              "                                                     [key], {});\n",
              "          if (!dataTable) return;\n",
              "\n",
              "          const docLinkHtml = 'Like what you see? Visit the ' +\n",
              "            '<a target=\"_blank\" href=https://colab.research.google.com/notebooks/data_table.ipynb>data table notebook</a>'\n",
              "            + ' to learn more about interactive tables.';\n",
              "          element.innerHTML = '';\n",
              "          dataTable['output_type'] = 'display_data';\n",
              "          await google.colab.output.renderOutput(dataTable, element);\n",
              "          const docLink = document.createElement('div');\n",
              "          docLink.innerHTML = docLinkHtml;\n",
              "          element.appendChild(docLink);\n",
              "        }\n",
              "      </script>\n",
              "    </div>\n",
              "  </div>\n",
              "  "
            ]
          },
          "metadata": {},
          "execution_count": 64
        }
      ],
      "source": [
        "population_data_read_html = pd.read_html(str(tables[5]), flavor='bs4')[0]\n",
        "\n",
        "population_data_read_html"
      ]
    },
    {
      "cell_type": "markdown",
      "metadata": {
        "id": "QmfFs240G6bR"
      },
      "source": [
        "## Scrape data from HTML tables into a DataFrame using read_html\n"
      ]
    },
    {
      "cell_type": "code",
      "execution_count": null,
      "metadata": {
        "id": "gOiawmvKG6bS"
      },
      "outputs": [],
      "source": [
        "dataframe_list = pd.read_html(url, flavor='bs4')"
      ]
    },
    {
      "cell_type": "code",
      "execution_count": null,
      "metadata": {
        "colab": {
          "base_uri": "https://localhost:8080/"
        },
        "id": "WzV5sVzxG6bT",
        "outputId": "936659f7-a617-47cf-ce21-db322c76d486"
      },
      "outputs": [
        {
          "output_type": "execute_result",
          "data": {
            "text/plain": [
              "24"
            ]
          },
          "metadata": {},
          "execution_count": 66
        }
      ],
      "source": [
        "len(dataframe_list)"
      ]
    },
    {
      "cell_type": "code",
      "execution_count": null,
      "metadata": {
        "colab": {
          "base_uri": "https://localhost:8080/",
          "height": 363
        },
        "id": "xZ1AXy5xG6bU",
        "outputId": "10dfbb53-3796-46a9-8a7c-1abfc73807a6"
      },
      "outputs": [
        {
          "output_type": "execute_result",
          "data": {
            "text/plain": [
              "   Rank         Country  Population  Area(km2)  Density(pop/km2)  \\\n",
              "0     1           India  1389637446    3287263               423   \n",
              "1     2        Pakistan   242923845     796095               305   \n",
              "2     3      Bangladesh   165650475     148460              1116   \n",
              "3     4           Japan   124214766     377915               329   \n",
              "4     5     Philippines   114597229     300000               382   \n",
              "5     6         Vietnam   103808319     331210               313   \n",
              "6     7  United Kingdom    67791400     243610               278   \n",
              "7     8     South Korea    51844834      99720               520   \n",
              "8     9          Taiwan    23580712      35980               655   \n",
              "9    10       Sri Lanka    23187516      65610               353   \n",
              "\n",
              "  Population trend[citation needed]  \n",
              "0                           Growing  \n",
              "1                   Rapidly growing  \n",
              "2                           Growing  \n",
              "3                    Declining[103]  \n",
              "4                           Growing  \n",
              "5                           Growing  \n",
              "6                           Growing  \n",
              "7                            Steady  \n",
              "8                            Steady  \n",
              "9                           Growing  "
            ],
            "text/html": [
              "\n",
              "  <div id=\"df-7e2f9bbe-0181-4e18-bb7b-b9f60e411c98\">\n",
              "    <div class=\"colab-df-container\">\n",
              "      <div>\n",
              "<style scoped>\n",
              "    .dataframe tbody tr th:only-of-type {\n",
              "        vertical-align: middle;\n",
              "    }\n",
              "\n",
              "    .dataframe tbody tr th {\n",
              "        vertical-align: top;\n",
              "    }\n",
              "\n",
              "    .dataframe thead th {\n",
              "        text-align: right;\n",
              "    }\n",
              "</style>\n",
              "<table border=\"1\" class=\"dataframe\">\n",
              "  <thead>\n",
              "    <tr style=\"text-align: right;\">\n",
              "      <th></th>\n",
              "      <th>Rank</th>\n",
              "      <th>Country</th>\n",
              "      <th>Population</th>\n",
              "      <th>Area(km2)</th>\n",
              "      <th>Density(pop/km2)</th>\n",
              "      <th>Population trend[citation needed]</th>\n",
              "    </tr>\n",
              "  </thead>\n",
              "  <tbody>\n",
              "    <tr>\n",
              "      <th>0</th>\n",
              "      <td>1</td>\n",
              "      <td>India</td>\n",
              "      <td>1389637446</td>\n",
              "      <td>3287263</td>\n",
              "      <td>423</td>\n",
              "      <td>Growing</td>\n",
              "    </tr>\n",
              "    <tr>\n",
              "      <th>1</th>\n",
              "      <td>2</td>\n",
              "      <td>Pakistan</td>\n",
              "      <td>242923845</td>\n",
              "      <td>796095</td>\n",
              "      <td>305</td>\n",
              "      <td>Rapidly growing</td>\n",
              "    </tr>\n",
              "    <tr>\n",
              "      <th>2</th>\n",
              "      <td>3</td>\n",
              "      <td>Bangladesh</td>\n",
              "      <td>165650475</td>\n",
              "      <td>148460</td>\n",
              "      <td>1116</td>\n",
              "      <td>Growing</td>\n",
              "    </tr>\n",
              "    <tr>\n",
              "      <th>3</th>\n",
              "      <td>4</td>\n",
              "      <td>Japan</td>\n",
              "      <td>124214766</td>\n",
              "      <td>377915</td>\n",
              "      <td>329</td>\n",
              "      <td>Declining[103]</td>\n",
              "    </tr>\n",
              "    <tr>\n",
              "      <th>4</th>\n",
              "      <td>5</td>\n",
              "      <td>Philippines</td>\n",
              "      <td>114597229</td>\n",
              "      <td>300000</td>\n",
              "      <td>382</td>\n",
              "      <td>Growing</td>\n",
              "    </tr>\n",
              "    <tr>\n",
              "      <th>5</th>\n",
              "      <td>6</td>\n",
              "      <td>Vietnam</td>\n",
              "      <td>103808319</td>\n",
              "      <td>331210</td>\n",
              "      <td>313</td>\n",
              "      <td>Growing</td>\n",
              "    </tr>\n",
              "    <tr>\n",
              "      <th>6</th>\n",
              "      <td>7</td>\n",
              "      <td>United Kingdom</td>\n",
              "      <td>67791400</td>\n",
              "      <td>243610</td>\n",
              "      <td>278</td>\n",
              "      <td>Growing</td>\n",
              "    </tr>\n",
              "    <tr>\n",
              "      <th>7</th>\n",
              "      <td>8</td>\n",
              "      <td>South Korea</td>\n",
              "      <td>51844834</td>\n",
              "      <td>99720</td>\n",
              "      <td>520</td>\n",
              "      <td>Steady</td>\n",
              "    </tr>\n",
              "    <tr>\n",
              "      <th>8</th>\n",
              "      <td>9</td>\n",
              "      <td>Taiwan</td>\n",
              "      <td>23580712</td>\n",
              "      <td>35980</td>\n",
              "      <td>655</td>\n",
              "      <td>Steady</td>\n",
              "    </tr>\n",
              "    <tr>\n",
              "      <th>9</th>\n",
              "      <td>10</td>\n",
              "      <td>Sri Lanka</td>\n",
              "      <td>23187516</td>\n",
              "      <td>65610</td>\n",
              "      <td>353</td>\n",
              "      <td>Growing</td>\n",
              "    </tr>\n",
              "  </tbody>\n",
              "</table>\n",
              "</div>\n",
              "      <button class=\"colab-df-convert\" onclick=\"convertToInteractive('df-7e2f9bbe-0181-4e18-bb7b-b9f60e411c98')\"\n",
              "              title=\"Convert this dataframe to an interactive table.\"\n",
              "              style=\"display:none;\">\n",
              "        \n",
              "  <svg xmlns=\"http://www.w3.org/2000/svg\" height=\"24px\"viewBox=\"0 0 24 24\"\n",
              "       width=\"24px\">\n",
              "    <path d=\"M0 0h24v24H0V0z\" fill=\"none\"/>\n",
              "    <path d=\"M18.56 5.44l.94 2.06.94-2.06 2.06-.94-2.06-.94-.94-2.06-.94 2.06-2.06.94zm-11 1L8.5 8.5l.94-2.06 2.06-.94-2.06-.94L8.5 2.5l-.94 2.06-2.06.94zm10 10l.94 2.06.94-2.06 2.06-.94-2.06-.94-.94-2.06-.94 2.06-2.06.94z\"/><path d=\"M17.41 7.96l-1.37-1.37c-.4-.4-.92-.59-1.43-.59-.52 0-1.04.2-1.43.59L10.3 9.45l-7.72 7.72c-.78.78-.78 2.05 0 2.83L4 21.41c.39.39.9.59 1.41.59.51 0 1.02-.2 1.41-.59l7.78-7.78 2.81-2.81c.8-.78.8-2.07 0-2.86zM5.41 20L4 18.59l7.72-7.72 1.47 1.35L5.41 20z\"/>\n",
              "  </svg>\n",
              "      </button>\n",
              "      \n",
              "  <style>\n",
              "    .colab-df-container {\n",
              "      display:flex;\n",
              "      flex-wrap:wrap;\n",
              "      gap: 12px;\n",
              "    }\n",
              "\n",
              "    .colab-df-convert {\n",
              "      background-color: #E8F0FE;\n",
              "      border: none;\n",
              "      border-radius: 50%;\n",
              "      cursor: pointer;\n",
              "      display: none;\n",
              "      fill: #1967D2;\n",
              "      height: 32px;\n",
              "      padding: 0 0 0 0;\n",
              "      width: 32px;\n",
              "    }\n",
              "\n",
              "    .colab-df-convert:hover {\n",
              "      background-color: #E2EBFA;\n",
              "      box-shadow: 0px 1px 2px rgba(60, 64, 67, 0.3), 0px 1px 3px 1px rgba(60, 64, 67, 0.15);\n",
              "      fill: #174EA6;\n",
              "    }\n",
              "\n",
              "    [theme=dark] .colab-df-convert {\n",
              "      background-color: #3B4455;\n",
              "      fill: #D2E3FC;\n",
              "    }\n",
              "\n",
              "    [theme=dark] .colab-df-convert:hover {\n",
              "      background-color: #434B5C;\n",
              "      box-shadow: 0px 1px 3px 1px rgba(0, 0, 0, 0.15);\n",
              "      filter: drop-shadow(0px 1px 2px rgba(0, 0, 0, 0.3));\n",
              "      fill: #FFFFFF;\n",
              "    }\n",
              "  </style>\n",
              "\n",
              "      <script>\n",
              "        const buttonEl =\n",
              "          document.querySelector('#df-7e2f9bbe-0181-4e18-bb7b-b9f60e411c98 button.colab-df-convert');\n",
              "        buttonEl.style.display =\n",
              "          google.colab.kernel.accessAllowed ? 'block' : 'none';\n",
              "\n",
              "        async function convertToInteractive(key) {\n",
              "          const element = document.querySelector('#df-7e2f9bbe-0181-4e18-bb7b-b9f60e411c98');\n",
              "          const dataTable =\n",
              "            await google.colab.kernel.invokeFunction('convertToInteractive',\n",
              "                                                     [key], {});\n",
              "          if (!dataTable) return;\n",
              "\n",
              "          const docLinkHtml = 'Like what you see? Visit the ' +\n",
              "            '<a target=\"_blank\" href=https://colab.research.google.com/notebooks/data_table.ipynb>data table notebook</a>'\n",
              "            + ' to learn more about interactive tables.';\n",
              "          element.innerHTML = '';\n",
              "          dataTable['output_type'] = 'display_data';\n",
              "          await google.colab.output.renderOutput(dataTable, element);\n",
              "          const docLink = document.createElement('div');\n",
              "          docLink.innerHTML = docLinkHtml;\n",
              "          element.appendChild(docLink);\n",
              "        }\n",
              "      </script>\n",
              "    </div>\n",
              "  </div>\n",
              "  "
            ]
          },
          "metadata": {},
          "execution_count": 67
        }
      ],
      "source": [
        "dataframe_list[5]"
      ]
    },
    {
      "cell_type": "code",
      "execution_count": null,
      "metadata": {
        "colab": {
          "base_uri": "https://localhost:8080/",
          "height": 363
        },
        "id": "RfEXXfgoG6bV",
        "outputId": "68f5f59e-3417-4164-9652-66afcc965975"
      },
      "outputs": [
        {
          "output_type": "execute_result",
          "data": {
            "text/plain": [
              "   Rank         Country  Population  Area(km2)  Density(pop/km2)\n",
              "0     1       Singapore     5921231        719              8235\n",
              "1     2      Bangladesh   165650475     148460              1116\n",
              "2     3  Palestine[102]     5223000       6025               867\n",
              "3     4          Taiwan    23580712      35980               655\n",
              "4     5     South Korea    51844834      99720               520\n",
              "5     6         Lebanon     5296814      10400               509\n",
              "6     7          Rwanda    13173730      26338               500\n",
              "7     8         Burundi    12696478      27830               456\n",
              "8     9           India  1389637446    3287263               423\n",
              "9    10     Netherlands    17400824      41543               419"
            ],
            "text/html": [
              "\n",
              "  <div id=\"df-2e699337-1ee3-4274-bd18-99a3a0ef0ef3\">\n",
              "    <div class=\"colab-df-container\">\n",
              "      <div>\n",
              "<style scoped>\n",
              "    .dataframe tbody tr th:only-of-type {\n",
              "        vertical-align: middle;\n",
              "    }\n",
              "\n",
              "    .dataframe tbody tr th {\n",
              "        vertical-align: top;\n",
              "    }\n",
              "\n",
              "    .dataframe thead th {\n",
              "        text-align: right;\n",
              "    }\n",
              "</style>\n",
              "<table border=\"1\" class=\"dataframe\">\n",
              "  <thead>\n",
              "    <tr style=\"text-align: right;\">\n",
              "      <th></th>\n",
              "      <th>Rank</th>\n",
              "      <th>Country</th>\n",
              "      <th>Population</th>\n",
              "      <th>Area(km2)</th>\n",
              "      <th>Density(pop/km2)</th>\n",
              "    </tr>\n",
              "  </thead>\n",
              "  <tbody>\n",
              "    <tr>\n",
              "      <th>0</th>\n",
              "      <td>1</td>\n",
              "      <td>Singapore</td>\n",
              "      <td>5921231</td>\n",
              "      <td>719</td>\n",
              "      <td>8235</td>\n",
              "    </tr>\n",
              "    <tr>\n",
              "      <th>1</th>\n",
              "      <td>2</td>\n",
              "      <td>Bangladesh</td>\n",
              "      <td>165650475</td>\n",
              "      <td>148460</td>\n",
              "      <td>1116</td>\n",
              "    </tr>\n",
              "    <tr>\n",
              "      <th>2</th>\n",
              "      <td>3</td>\n",
              "      <td>Palestine[102]</td>\n",
              "      <td>5223000</td>\n",
              "      <td>6025</td>\n",
              "      <td>867</td>\n",
              "    </tr>\n",
              "    <tr>\n",
              "      <th>3</th>\n",
              "      <td>4</td>\n",
              "      <td>Taiwan</td>\n",
              "      <td>23580712</td>\n",
              "      <td>35980</td>\n",
              "      <td>655</td>\n",
              "    </tr>\n",
              "    <tr>\n",
              "      <th>4</th>\n",
              "      <td>5</td>\n",
              "      <td>South Korea</td>\n",
              "      <td>51844834</td>\n",
              "      <td>99720</td>\n",
              "      <td>520</td>\n",
              "    </tr>\n",
              "    <tr>\n",
              "      <th>5</th>\n",
              "      <td>6</td>\n",
              "      <td>Lebanon</td>\n",
              "      <td>5296814</td>\n",
              "      <td>10400</td>\n",
              "      <td>509</td>\n",
              "    </tr>\n",
              "    <tr>\n",
              "      <th>6</th>\n",
              "      <td>7</td>\n",
              "      <td>Rwanda</td>\n",
              "      <td>13173730</td>\n",
              "      <td>26338</td>\n",
              "      <td>500</td>\n",
              "    </tr>\n",
              "    <tr>\n",
              "      <th>7</th>\n",
              "      <td>8</td>\n",
              "      <td>Burundi</td>\n",
              "      <td>12696478</td>\n",
              "      <td>27830</td>\n",
              "      <td>456</td>\n",
              "    </tr>\n",
              "    <tr>\n",
              "      <th>8</th>\n",
              "      <td>9</td>\n",
              "      <td>India</td>\n",
              "      <td>1389637446</td>\n",
              "      <td>3287263</td>\n",
              "      <td>423</td>\n",
              "    </tr>\n",
              "    <tr>\n",
              "      <th>9</th>\n",
              "      <td>10</td>\n",
              "      <td>Netherlands</td>\n",
              "      <td>17400824</td>\n",
              "      <td>41543</td>\n",
              "      <td>419</td>\n",
              "    </tr>\n",
              "  </tbody>\n",
              "</table>\n",
              "</div>\n",
              "      <button class=\"colab-df-convert\" onclick=\"convertToInteractive('df-2e699337-1ee3-4274-bd18-99a3a0ef0ef3')\"\n",
              "              title=\"Convert this dataframe to an interactive table.\"\n",
              "              style=\"display:none;\">\n",
              "        \n",
              "  <svg xmlns=\"http://www.w3.org/2000/svg\" height=\"24px\"viewBox=\"0 0 24 24\"\n",
              "       width=\"24px\">\n",
              "    <path d=\"M0 0h24v24H0V0z\" fill=\"none\"/>\n",
              "    <path d=\"M18.56 5.44l.94 2.06.94-2.06 2.06-.94-2.06-.94-.94-2.06-.94 2.06-2.06.94zm-11 1L8.5 8.5l.94-2.06 2.06-.94-2.06-.94L8.5 2.5l-.94 2.06-2.06.94zm10 10l.94 2.06.94-2.06 2.06-.94-2.06-.94-.94-2.06-.94 2.06-2.06.94z\"/><path d=\"M17.41 7.96l-1.37-1.37c-.4-.4-.92-.59-1.43-.59-.52 0-1.04.2-1.43.59L10.3 9.45l-7.72 7.72c-.78.78-.78 2.05 0 2.83L4 21.41c.39.39.9.59 1.41.59.51 0 1.02-.2 1.41-.59l7.78-7.78 2.81-2.81c.8-.78.8-2.07 0-2.86zM5.41 20L4 18.59l7.72-7.72 1.47 1.35L5.41 20z\"/>\n",
              "  </svg>\n",
              "      </button>\n",
              "      \n",
              "  <style>\n",
              "    .colab-df-container {\n",
              "      display:flex;\n",
              "      flex-wrap:wrap;\n",
              "      gap: 12px;\n",
              "    }\n",
              "\n",
              "    .colab-df-convert {\n",
              "      background-color: #E8F0FE;\n",
              "      border: none;\n",
              "      border-radius: 50%;\n",
              "      cursor: pointer;\n",
              "      display: none;\n",
              "      fill: #1967D2;\n",
              "      height: 32px;\n",
              "      padding: 0 0 0 0;\n",
              "      width: 32px;\n",
              "    }\n",
              "\n",
              "    .colab-df-convert:hover {\n",
              "      background-color: #E2EBFA;\n",
              "      box-shadow: 0px 1px 2px rgba(60, 64, 67, 0.3), 0px 1px 3px 1px rgba(60, 64, 67, 0.15);\n",
              "      fill: #174EA6;\n",
              "    }\n",
              "\n",
              "    [theme=dark] .colab-df-convert {\n",
              "      background-color: #3B4455;\n",
              "      fill: #D2E3FC;\n",
              "    }\n",
              "\n",
              "    [theme=dark] .colab-df-convert:hover {\n",
              "      background-color: #434B5C;\n",
              "      box-shadow: 0px 1px 3px 1px rgba(0, 0, 0, 0.15);\n",
              "      filter: drop-shadow(0px 1px 2px rgba(0, 0, 0, 0.3));\n",
              "      fill: #FFFFFF;\n",
              "    }\n",
              "  </style>\n",
              "\n",
              "      <script>\n",
              "        const buttonEl =\n",
              "          document.querySelector('#df-2e699337-1ee3-4274-bd18-99a3a0ef0ef3 button.colab-df-convert');\n",
              "        buttonEl.style.display =\n",
              "          google.colab.kernel.accessAllowed ? 'block' : 'none';\n",
              "\n",
              "        async function convertToInteractive(key) {\n",
              "          const element = document.querySelector('#df-2e699337-1ee3-4274-bd18-99a3a0ef0ef3');\n",
              "          const dataTable =\n",
              "            await google.colab.kernel.invokeFunction('convertToInteractive',\n",
              "                                                     [key], {});\n",
              "          if (!dataTable) return;\n",
              "\n",
              "          const docLinkHtml = 'Like what you see? Visit the ' +\n",
              "            '<a target=\"_blank\" href=https://colab.research.google.com/notebooks/data_table.ipynb>data table notebook</a>'\n",
              "            + ' to learn more about interactive tables.';\n",
              "          element.innerHTML = '';\n",
              "          dataTable['output_type'] = 'display_data';\n",
              "          await google.colab.output.renderOutput(dataTable, element);\n",
              "          const docLink = document.createElement('div');\n",
              "          docLink.innerHTML = docLinkHtml;\n",
              "          element.appendChild(docLink);\n",
              "        }\n",
              "      </script>\n",
              "    </div>\n",
              "  </div>\n",
              "  "
            ]
          },
          "metadata": {},
          "execution_count": 68
        }
      ],
      "source": [
        "pd.read_html(url, match=\"10 most densely populated countries\", flavor='bs4')[0]"
      ]
    }
  ],
  "metadata": {
    "kernelspec": {
      "display_name": "Python 3.9.7 64-bit",
      "language": "python",
      "name": "python3"
    },
    "language_info": {
      "codemirror_mode": {
        "name": "ipython",
        "version": 3
      },
      "file_extension": ".py",
      "mimetype": "text/x-python",
      "name": "python",
      "nbconvert_exporter": "python",
      "pygments_lexer": "ipython3",
      "version": "3.9.7"
    },
    "vscode": {
      "interpreter": {
        "hash": "c347c8f9a7ef94e4c9e03b4513be7835ed18f45b99a2a817fb579f408b867b16"
      }
    },
    "colab": {
      "provenance": []
    }
  },
  "nbformat": 4,
  "nbformat_minor": 0
}